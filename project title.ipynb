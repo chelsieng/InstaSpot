{
 "cells": [
  {
   "cell_type": "markdown",
   "id": "423060ba",
   "metadata": {},
   "source": [
    "# Project Title"
   ]
  },
  {
   "cell_type": "markdown",
   "id": "f5042972",
   "metadata": {},
   "source": [
    "-description-"
   ]
  },
  {
   "cell_type": "markdown",
   "id": "ac166938",
   "metadata": {},
   "source": [
    "## Table of Content"
   ]
  },
  {
   "cell_type": "markdown",
   "id": "cb1db7c1",
   "metadata": {},
   "source": [
    "1. Importing modules\n",
    "\n",
    "2. Data processing\n",
    "\n",
    "..."
   ]
  },
  {
   "cell_type": "markdown",
   "id": "ab538325",
   "metadata": {},
   "source": [
    "## 1. Importing modules"
   ]
  },
  {
   "cell_type": "code",
   "execution_count": 1,
   "id": "2d4f9a3c",
   "metadata": {},
   "outputs": [],
   "source": [
    "import csv\n",
    "from zipfile import ZipFile\n",
    "from pyspark.rdd import RDD\n",
    "from pyspark.sql import DataFrame\n",
    "from pyspark.sql import SparkSession\n",
    "from pyspark.sql.functions import desc"
   ]
  },
  {
   "cell_type": "markdown",
   "id": "852dbd75",
   "metadata": {},
   "source": [
    "## 2. Data processing"
   ]
  },
  {
   "cell_type": "code",
   "execution_count": 2,
   "id": "ca7bb908",
   "metadata": {},
   "outputs": [],
   "source": [
    "#Initialize a spark session.\n",
    "def init_spark():\n",
    "    spark = SparkSession \\\n",
    "        .builder \\\n",
    "        .appName(\"Python Spark SQL basic example\") \\\n",
    "        .config(\"spark.some.config.option\", \"some-value\") \\\n",
    "        .getOrCreate()\n",
    "    return spark"
   ]
  },
  {
   "cell_type": "code",
   "execution_count": 6,
   "id": "a2681551",
   "metadata": {},
   "outputs": [
    {
     "name": "stdout",
     "output_type": "stream",
     "text": [
      "4210\n",
      "4210\n",
      "wake.up.matt\n"
     ]
    }
   ],
   "source": [
    "spark = init_spark()\n",
    "\n",
    "lines = spark.sparkContext.textFile('data/influencers.txt')\n",
    "\n",
    "# get category and username index\n",
    "headers = lines.take(2)\n",
    "header = headers[0]\n",
    "category_index = header.split(\"\\t\").index(\"Category\")\n",
    "username_index = header.split(\"\\t\").index(\"Username\")\n",
    "\n",
    "# filter travel influencers\n",
    "lines = lines.filter(lambda line: line not in headers)\n",
    "lines = lines.map(lambda line: line.split(\"\\t\"))\n",
    "travel_influencers = lines.filter(lambda line: line[category_index] == 'travel')\n",
    "# get all travel influencers IG username\n",
    "travel_usernames = travel_influencers.map(lambda line: line[username_index])\n",
    "\n",
    "print(travel_influencers.count())\n",
    "print(travel_usernames.count())\n",
    "print(travel_usernames.collect()[3])"
   ]
  },
  {
   "cell_type": "code",
   "execution_count": 12,
   "id": "75e2fbf0",
   "metadata": {},
   "outputs": [
    {
     "name": "stdout",
     "output_type": "stream",
     "text": [
      "['zip/', 'zip/test1.txt', 'zip/test2.txt', 'zip/test3.txt']\n",
      "zip/test1.txt\n",
      "zip/test2.txt\n"
     ]
    }
   ],
   "source": [
    "# TODO: reduce time complexity\n",
    "with ZipFile('data/post-metadata/fix.zip', 'r') as zipObject:\n",
    "    names = zipObject.namelist()\n",
    "    for file_name in names:\n",
    "        if any(i in file_name for i in travel_usernames.collect()):\n",
    "            # Extract a travel influencers post metadata from zip\n",
    "            zipObject.extract(file_name, 'data/post-metadata')\n",
    "            print('All the python files are extracted')"
   ]
  }
 ],
 "metadata": {
  "kernelspec": {
   "display_name": "Python 3 (ipykernel)",
   "language": "python",
   "name": "python3"
  },
  "language_info": {
   "codemirror_mode": {
    "name": "ipython",
    "version": 3
   },
   "file_extension": ".py",
   "mimetype": "text/x-python",
   "name": "python",
   "nbconvert_exporter": "python",
   "pygments_lexer": "ipython3",
   "version": "3.8.12"
  }
 },
 "nbformat": 4,
 "nbformat_minor": 5
}
