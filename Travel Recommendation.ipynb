{
 "cells": [
  {
   "cell_type": "markdown",
   "id": "1ef3c907",
   "metadata": {},
   "source": [
    "# InstaSpot"
   ]
  },
  {
   "cell_type": "markdown",
   "id": "fa64956c",
   "metadata": {},
   "source": [
    "Our main goal is to be able to recommend new travel destinations to users based on their interest in travel posts on Instagram. To achieve this, we will explore different ways to build recommender systems. We will compare results between a content-based and a matrix factorization based collaborative filtering approach."
   ]
  },
  {
   "cell_type": "markdown",
   "id": "35f5cc44",
   "metadata": {},
   "source": [
    "## Table of Content"
   ]
  },
  {
   "cell_type": "markdown",
   "id": "067c4eb6",
   "metadata": {},
   "source": [
    "1. Importing modules\n",
    "    * Initialize spark session\n",
    "    * Define metadata\n",
    "2. Data processing\n",
    "    * Retrieve travel influencers  \n",
    "    * Extract travel post metadata\n",
    "    * Extract relevant fields\n",
    "    * Create dataframe\n",
    "3. Data Analysis\n",
    "    * Location\n",
    "    * Instagram users\n",
    "    * Hashtags\n",
    "    * Caption\n",
    "    * Accessibility caption\n",
    "4. Content-Based Recommendation\n",
    "    * Model 1\n",
    "    * Model 2\n",
    "    * Bonus\n",
    "5. Latent Factor Models\n",
    "    * Model 1\n",
    "    * Model 2\n",
    "    * Model 3\n",
    "    * Model 4\n",
    "    * Model 5\n",
    "    * Model performances on test set\n",
    "    * Top 5 recommendation for a specific user"
   ]
  },
  {
   "cell_type": "markdown",
   "id": "63e7f7ea",
   "metadata": {},
   "source": [
    "## 1. Importing modules"
   ]
  },
  {
   "cell_type": "markdown",
   "id": "2029f7f7",
   "metadata": {},
   "source": [
    "First, let's import some libraries that we're going to use in the notebook."
   ]
  },
  {
   "cell_type": "code",
   "execution_count": 1,
   "id": "e6f3b1f3",
   "metadata": {
    "pycharm": {
     "name": "#%%\n"
    }
   },
   "outputs": [],
   "source": [
    "import os\n",
    "import re\n",
    "import csv\n",
    "import shutil\n",
    "import difflib\n",
    "import warnings\n",
    "import numpy as np\n",
    "import pandas as pd\n",
    "import matplotlib as mpl\n",
    "import matplotlib.pyplot as plt\n",
    "from pyspark.rdd import RDD\n",
    "from pyspark.sql import DataFrame\n",
    "from pyspark.sql import SparkSession\n",
    "from pyspark.sql.functions import col\n",
    "from pyspark.sql.functions import sum\n",
    "from pyspark.sql.functions import lit\n",
    "from pyspark.sql.functions import udf\n",
    "from pyspark.sql.functions import count\n",
    "from pyspark.sql.functions import explode\n",
    "from pyspark.sql.types import StringType\n",
    "from pyspark.sql.types import IntegerType\n",
    "from pyspark.sql.types import DoubleType\n",
    "from pyspark.ml.recommendation import ALS\n",
    "from pyspark.ml.feature import MinMaxScaler\n",
    "from pyspark.ml.feature import VectorAssembler\n",
    "from pyspark.ml.tuning import ParamGridBuilder\n",
    "from pyspark.ml.tuning import TrainValidationSplit\n",
    "from pyspark.ml.evaluation import RegressionEvaluator\n",
    "from sklearn.feature_extraction.text import TfidfVectorizer\n",
    "from sklearn.metrics.pairwise import cosine_similarity\n",
    "from sklearn.metrics.pairwise import euclidean_distances\n",
    "warnings.filterwarnings(\"ignore\")"
   ]
  },
  {
   "cell_type": "markdown",
   "id": "d276ac9f",
   "metadata": {},
   "source": [
    "Let's also initialize our spark session"
   ]
  },
  {
   "cell_type": "code",
   "execution_count": 2,
   "id": "9b397652",
   "metadata": {
    "pycharm": {
     "name": "#%%\n"
    }
   },
   "outputs": [],
   "source": [
    "def init_spark():\n",
    "    spark = SparkSession \\\n",
    "        .builder \\\n",
    "        .appName(\"Python Spark SQL basic example\") \\\n",
    "        .config(\"spark.ui.showConsoleProgress\", 'false') \\\n",
    "        .getOrCreate()\n",
    "    return spark"
   ]
  },
  {
   "cell_type": "code",
   "execution_count": 3,
   "id": "96bc7b28",
   "metadata": {
    "pycharm": {
     "name": "#%%\n"
    }
   },
   "outputs": [
    {
     "name": "stderr",
     "output_type": "stream",
     "text": [
      "22/04/10 16:22:06 WARN NativeCodeLoader: Unable to load native-hadoop library for your platform... using builtin-java classes where applicable\n",
      "Using Spark's default log4j profile: org/apache/spark/log4j-defaults.properties\n",
      "Setting default log level to \"WARN\".\n",
      "To adjust logging level use sc.setLogLevel(newLevel). For SparkR, use setLogLevel(newLevel).\n"
     ]
    }
   ],
   "source": [
    "spark = init_spark()\n",
    "spark.sparkContext.setLogLevel(\"OFF\")"
   ]
  },
  {
   "cell_type": "markdown",
   "id": "2b16c16a",
   "metadata": {},
   "source": [
    "Let's define some metadata"
   ]
  },
  {
   "cell_type": "code",
   "execution_count": 4,
   "id": "f3183cfc",
   "metadata": {
    "pycharm": {
     "name": "#%%\n"
    }
   },
   "outputs": [],
   "source": [
    "# To modify accordingly\n",
    "INFO_PATH = 'data/info/'\n",
    "POST_PATH = 'data/post-metadata/'\n",
    "DATASET_PATH = 'data/post-metadata/*.info'\n",
    "INFLUENCER_TEXT_PATH = 'data/influencers.txt'\n",
    "SEED = 123"
   ]
  },
  {
   "cell_type": "markdown",
   "id": "fdbd38fe",
   "metadata": {},
   "source": [
    "## 2. Data processing"
   ]
  },
  {
   "cell_type": "markdown",
   "id": "316be36a",
   "metadata": {},
   "source": [
    "Our [dataset](https://sites.google.com/site/sbkimcv/dataset#h.4eo4r5p70z10) comes from Proceedings of The Web Conference (WWW 20), ACM, 2020, provided by Seungbae Kim.\n",
    "\n",
    "This dataset classified influencers into nine categories namely *beauty, family, fashion, fitness, food, interior, pet, travel, and others*. It contains 300 posts per influencer, so there are over 10 million Instagram posts where each influencer is categorized based on their post metadata. Each post metadata file is in JSON format."
   ]
  },
  {
   "cell_type": "markdown",
   "id": "11d8f8d2",
   "metadata": {},
   "source": [
    "### Retrieve travel influencers\n",
    "\n",
    "\n",
    "Since we're only interested in travel influencers, we will retrieve all usernames from the travel category using <code>influencers.txt</code> which contains a list of influencers with their Instagram username, category, the number of followers, followees, and posts."
   ]
  },
  {
   "cell_type": "code",
   "execution_count": 5,
   "id": "cb9a0b71",
   "metadata": {
    "pycharm": {
     "name": "#%%\n"
    }
   },
   "outputs": [
    {
     "name": "stdout",
     "output_type": "stream",
     "text": [
      "Total travel users: 4210\n"
     ]
    }
   ],
   "source": [
    "lines = spark.sparkContext.textFile(INFLUENCER_TEXT_PATH)\n",
    "\n",
    "# get category and username index\n",
    "headers = lines.take(2)\n",
    "header = headers[0]\n",
    "category_index = header.split(\"\\t\").index(\"Category\")\n",
    "username_index = header.split(\"\\t\").index(\"Username\")\n",
    "post_index = header.split(\"\\t\").index(\"#Posts\")\n",
    "\n",
    "# filter travel influencers\n",
    "lines = lines.filter(lambda line: line not in headers)\n",
    "lines = lines.map(lambda line: line.split(\"\\t\"))\n",
    "travel_influencers = lines.filter(lambda line: line[category_index] == 'travel')\n",
    "# get all travel influencers IG username\n",
    "travel_usernames = travel_influencers.map(lambda line: line[username_index])\n",
    "\n",
    "print('Total travel users:',travel_usernames.count())"
   ]
  },
  {
   "cell_type": "markdown",
   "id": "4b843f87",
   "metadata": {},
   "source": [
    "As we can see above, there were 4210 instagram users categorized as travel influencers. "
   ]
  },
  {
   "cell_type": "markdown",
   "id": "37b33c4b",
   "metadata": {},
   "source": [
    "### Extract travel post metadata \n",
    "Now let's go ahead and extract the post metadata of those users only. Each post metadata filename starts with a username followed by a post ID. "
   ]
  },
  {
   "cell_type": "code",
   "execution_count": 6,
   "id": "41a58dcc",
   "metadata": {
    "pycharm": {
     "name": "#%%\n"
    }
   },
   "outputs": [],
   "source": [
    "# file_list = os.listdir(INFO_PATH)\n",
    "\n",
    "# for name in travel_usernames.collect():\n",
    "#     st = f'.{name}..info$'\n",
    "#     p = re.compile(st, re.IGNORECASE)\n",
    "#     for f in file_list:\n",
    "#         if p.match(f):\n",
    "#             shutil.copy(f'{INFO_PATH}{f}', POST_PATH)"
   ]
  },
  {
   "cell_type": "markdown",
   "id": "58db41c5",
   "metadata": {},
   "source": [
    "### Extract relevant fields\n",
    "Since there are more information than we need, we will extract relevant fields from the JSON files.\n",
    "\n",
    "The following fields are the ones we found the most relevant to our project:\n",
    "\n",
    "| Fields               | Description                                      |\n",
    "| :------------------- | :------------------------------------------------|\n",
    "| post_id              | ID of the instagram post                         |\n",
    "| owner_id             | owner id of instagram post                       |\n",
    "| owner_username       | owner username of instagram post                 |\n",
    "|accessibility_caption | describes what the post is about                 |\n",
    "|likes_count           | number of likes the post received                |\n",
    "|comments_count        | number of comments the post received             |\n",
    "|commenters_id         | ID list of users who commented on the post       |\n",
    "|commenters_username   | username list of users who commented on the post |\n",
    "|tagged_users_id       | ID list of tagged users on the post              |\n",
    "|tagged_users_username | username list of tagged users on the post        |\n",
    "|caption               | caption of the post                              |\n",
    "|hashtags              | hashtags from caption of the post                |\n",
    "|location_id           | location id of the post                          |\n",
    "|location_name         | location name of the post                        |"
   ]
  },
  {
   "cell_type": "markdown",
   "id": "0fad691c",
   "metadata": {},
   "source": [
    "### Helper functions\n",
    "\n",
    "Below are helper functions that will extract the required fields."
   ]
  },
  {
   "cell_type": "code",
   "execution_count": 5,
   "id": "8fc636d8",
   "metadata": {
    "pycharm": {
     "name": "#%%\n"
    }
   },
   "outputs": [],
   "source": [
    "# helper function to extract counts\n",
    "def extract_counts(row, field):\n",
    "    if field not in row:\n",
    "        return 0\n",
    "    if row[field] is None:\n",
    "        return 0\n",
    "    if 'count' not in row[field] or row[field]['count'] is None:\n",
    "        return 0\n",
    "    return int(row[field]['count'])\n",
    "\n",
    "# helper function to traverse user network\n",
    "def extract_nodes_from_edges(row, field, secondary_fields):\n",
    "    result = []\n",
    "    if field not in row or row[field] is None \\\n",
    "    or 'edges' not in row[field] or row[field]['edges'] is None:\n",
    "        return []\n",
    "\n",
    "    for edge in row[field]['edges']:\n",
    "        if 'node' in edge and edge['node']:\n",
    "            no_error = True\n",
    "            temp = edge['node']\n",
    "            for f in secondary_fields:\n",
    "                if f in temp and temp[f]:\n",
    "                    temp = temp[f]\n",
    "                else:\n",
    "                    no_error = False\n",
    "                    \n",
    "            if no_error:\n",
    "                result.append(temp)\n",
    " \n",
    "    return result\n",
    "\n",
    "# helper function to extract tagged users from caption\n",
    "def extract_tagged_users(caption):\n",
    "    tagged = []\n",
    "    if caption is None or len(caption) == 0:\n",
    "        return tagged\n",
    "    else: \n",
    "        for word in caption[0].split():\n",
    "            if word[0] == '@':\n",
    "                tagged.append(word[1:])\n",
    "        return tagged\n",
    "    \n",
    "# likes_count\n",
    "def likes(row):\n",
    "    return extract_counts(row, 'edge_media_preview_like')\n",
    "\n",
    "# comments_count\n",
    "def comments_count(row):\n",
    "    return extract_counts(row, 'edge_media_to_parent_comment')\n",
    "\n",
    "# tagged_users_id\n",
    "def extract_tagged_users_id(row):\n",
    "    tagged_ls = extract_nodes_from_edges(row, 'edge_media_to_tagged_user', ['user', 'id'])\n",
    "    return list(map(int, tagged_ls))\n",
    "\n",
    "# tagged_users_username\n",
    "def extract_tagged_users_username(row):\n",
    "    return extract_nodes_from_edges(row, 'edge_media_to_tagged_user', ['user', 'username'])\n",
    "\n",
    "# commenters_id\n",
    "def extract_commenters_id(row):\n",
    "    comm_ls = extract_nodes_from_edges(row, 'edge_media_to_parent_comment', ['owner', 'id'])\n",
    "    return list(map(int, comm_ls))\n",
    "\n",
    "# commenters_username\n",
    "def extract_commenters_username(row):\n",
    "    return extract_nodes_from_edges(row, 'edge_media_to_parent_comment', ['owner', 'username'])\n",
    "\n",
    "# hashtags\n",
    "def extract_hashtags(caption):\n",
    "    hashtags = []\n",
    "    if caption is None or len(caption) == 0:\n",
    "        return hashtags\n",
    "    else: \n",
    "        for word in caption[0].split():\n",
    "            if word[0] == '#':\n",
    "                hashtags.append(word[1:])\n",
    "        return hashtags\n",
    "\n",
    "# caption\n",
    "def extract_text_from_caption(row):\n",
    "    result = []\n",
    "    if 'edge_media_to_caption' not in row or row['edge_media_to_caption'] is None \\\n",
    "    or 'edges' not in row['edge_media_to_caption'] or row['edge_media_to_caption']['edges'] is None:\n",
    "        return []\n",
    "    \n",
    "    for edge in row['edge_media_to_caption']['edges']:\n",
    "        if 'node' in edge and edge['node'] and 'text' in edge['node']:\n",
    "            result.append(edge['node']['text'])\n",
    "    return result\n",
    "\n",
    "# location id, name\n",
    "def extract_location(row):\n",
    "    result = {\n",
    "        'location_name': '',\n",
    "        'location_id': ''\n",
    "    }\n",
    "    if 'location' in row and row['location']:\n",
    "        if 'name' in row['location'] and 'id' in row['location']:\n",
    "            result['location_name'] = row['location']['name']\n",
    "            result['location_id']   = int(row['location']['id'])\n",
    "        \n",
    "    return result\n",
    "\n",
    "# owner_id\n",
    "def extract_post_owner_id(row):\n",
    "    if 'owner' not in row or row['owner'] is None:\n",
    "        return ''\n",
    "\n",
    "    if 'id' not in row['owner'] or row['owner']['id'] is None:\n",
    "        return ''\n",
    "\n",
    "    return int(row['owner']['id'])\n",
    "\n",
    "# owner_username\n",
    "def extract_post_owner_username(row):\n",
    "    if 'owner' not in row or row['owner'] is None:\n",
    "        return ''\n",
    "    \n",
    "    if 'username' not in row['owner'] or row['owner']['username'] is None:\n",
    "        return ''\n",
    "\n",
    "    return row['owner']['username']\n",
    "\n",
    "# post_id\n",
    "def extract_post_id(row):\n",
    "    if 'id' not in row or row['id'] is None:\n",
    "        return ''\n",
    "    \n",
    "    return int(row['id'])\n",
    "\n",
    "# accessibility_caption\n",
    "def extract_accessibility_caption(row):\n",
    "    if 'accessibility_caption' not in row or row['accessibility_caption'] is None:\n",
    "        return ''\n",
    "    \n",
    "    return row['accessibility_caption']\n",
    "    \n",
    "# returns an RDD where each row is a json file \n",
    "def create_post_as_json(row):\n",
    "    post_id = extract_post_id(row)\n",
    "    location = extract_location(row)\n",
    "    owner_id = extract_post_owner_id(row)\n",
    "    owner_username = extract_post_owner_username(row)\n",
    "    caption = extract_text_from_caption(row)\n",
    "    hashtags = extract_hashtags(caption)\n",
    "    likes_count = likes(row)\n",
    "    tagged_users_id = extract_tagged_users_id(row)\n",
    "    tagged_users_username = extract_tagged_users_username(row) # TODO: ADD @ FROM CAPTIONS\n",
    "    commenters_id = extract_commenters_id(row)\n",
    "    commenters_username = extract_commenters_username(row)\n",
    "    comment_count = comments_count(row)\n",
    "    accessibility_caption = extract_accessibility_caption(row)\n",
    "    \n",
    "    return {\n",
    "        'post_id': post_id,\n",
    "        'owner_id': owner_id,\n",
    "        'owner_username': owner_username,\n",
    "        'location_id' : location['location_id'],\n",
    "        'location_name' : location['location_name'],\n",
    "        'likes_count': likes_count,\n",
    "        'comments_count': comment_count,\n",
    "        'commenters_id': commenters_id,\n",
    "        'commenters_username': commenters_username,\n",
    "        'tagged_users_id': tagged_users_id,\n",
    "        'tagged_users_username': tagged_users_username,\n",
    "        'caption': caption,\n",
    "        'hashtags': hashtags,\n",
    "        'accessibility_caption': accessibility_caption     \n",
    "    }\n",
    "\n",
    "# converts a json file into tuples\n",
    "def convert_json_to_tuple(row):\n",
    "    post_id = row['post_id']\n",
    "    location_name = row['location_name']\n",
    "    location_id = row['location_id']\n",
    "    likes_count = row['likes_count']\n",
    "    owner_id = row['owner_id']\n",
    "    owner_username = row['owner_username']\n",
    "    caption = row['caption']\n",
    "    hashtags = row['hashtags']\n",
    "    tagged_users_id = row['tagged_users_id']\n",
    "    tagged_users_username = row['tagged_users_username']\n",
    "    commenters_id = row['commenters_id']\n",
    "    commenters_username = row['commenters_username']\n",
    "    accessibility_caption = row['accessibility_caption']\n",
    "    comment_count = row['comments_count']\n",
    "    return (post_id, owner_id, owner_username, location_id, location_name,\n",
    "            likes_count, comment_count, commenters_id, commenters_username,\n",
    "            tagged_users_id, tagged_users_username, caption, hashtags,\n",
    "            accessibility_caption)\n",
    "\n",
    "# when exporting the data to CSV, it doesn't allow arrays, so the they need to be converted to strings\n",
    "def flatten_json_lists(row):\n",
    "    row['caption'] = '. '.join(row['caption'])\n",
    "    row['hashtags'] = ', '.join(row['hashtags'])\n",
    "#     row['tagged_users_id'] =  ', '.join(row['tagged_users_id'])\n",
    "    row['tagged_users_username'] =  ', '.join(row['tagged_users_username'])\n",
    "#     row['commenters_id'] = ', '.join(row['commenters_id'])\n",
    "    row['commenters_username'] =  ', '.join(row['commenters_username'])\n",
    "    return row\n",
    "\n",
    "# function that replaces \"\\r\" with \"\\n\"\n",
    "def remove_carry_returns(row):\n",
    "    row['caption'] = row['caption'].replace('\\r', '').replace('\\n', ' ')\n",
    "    return row"
   ]
  },
  {
   "cell_type": "markdown",
   "id": "9146f233",
   "metadata": {},
   "source": [
    "Now that we are all set, we will read all JSON files into an RDD,"
   ]
  },
  {
   "cell_type": "code",
   "execution_count": 6,
   "id": "e5d87edc",
   "metadata": {
    "pycharm": {
     "name": "#%%\n"
    }
   },
   "outputs": [],
   "source": [
    "df = spark.read.json(DATASET_PATH)\n",
    "rdd =  df.rdd"
   ]
  },
  {
   "cell_type": "markdown",
   "id": "3b480b97",
   "metadata": {},
   "source": [
    "We will then map our helper functions to extract the neccessary fields"
   ]
  },
  {
   "cell_type": "code",
   "execution_count": 7,
   "id": "a842b611",
   "metadata": {
    "pycharm": {
     "name": "#%%\n"
    }
   },
   "outputs": [],
   "source": [
    "#transform data to the needed format\n",
    "rdd = rdd.map(lambda r: create_post_as_json(r)).\\\n",
    "    map(lambda r: flatten_json_lists(r)).\\\n",
    "    map(lambda r: remove_carry_returns(r)).\\\n",
    "    map(lambda r: convert_json_to_tuple(r))"
   ]
  },
  {
   "cell_type": "markdown",
   "id": "87305a4a",
   "metadata": {},
   "source": [
    "And finally convert our RDD into a dataframe with the following schema to better explore our data"
   ]
  },
  {
   "cell_type": "code",
   "execution_count": 8,
   "id": "7269348f",
   "metadata": {
    "pycharm": {
     "name": "#%%\n"
    }
   },
   "outputs": [],
   "source": [
    "schema = ['post_id', 'owner_id', 'owner_username','location_id', 'location_name',\n",
    "          'likes_count', 'comments_count', 'commenters_id', 'commenters_username',\n",
    "          'tagged_users_id', 'tagged_users_username', 'caption', 'hashtags',\n",
    "          'accessibility_caption']\n",
    "\n",
    "df = rdd.toDF(schema)"
   ]
  },
  {
   "cell_type": "code",
   "execution_count": 11,
   "id": "5681aa79",
   "metadata": {
    "pycharm": {
     "name": "#%%\n"
    }
   },
   "outputs": [
    {
     "data": {
      "text/plain": [
       "68353"
      ]
     },
     "execution_count": 11,
     "metadata": {},
     "output_type": "execute_result"
    }
   ],
   "source": [
    "df.count()"
   ]
  },
  {
   "cell_type": "markdown",
   "id": "2deb98a8",
   "metadata": {},
   "source": [
    "As we can see above, we collected 68,353 post metadata."
   ]
  },
  {
   "cell_type": "markdown",
   "id": "3e274946",
   "metadata": {},
   "source": [
    "Let's have a look at the first 10 rows."
   ]
  },
  {
   "cell_type": "code",
   "execution_count": 12,
   "id": "95f1c57d",
   "metadata": {
    "pycharm": {
     "name": "#%%\n"
    }
   },
   "outputs": [
    {
     "data": {
      "text/html": [
       "<div>\n",
       "<style scoped>\n",
       "    .dataframe tbody tr th:only-of-type {\n",
       "        vertical-align: middle;\n",
       "    }\n",
       "\n",
       "    .dataframe tbody tr th {\n",
       "        vertical-align: top;\n",
       "    }\n",
       "\n",
       "    .dataframe thead th {\n",
       "        text-align: right;\n",
       "    }\n",
       "</style>\n",
       "<table border=\"1\" class=\"dataframe\">\n",
       "  <thead>\n",
       "    <tr style=\"text-align: right;\">\n",
       "      <th></th>\n",
       "      <th>post_id</th>\n",
       "      <th>owner_id</th>\n",
       "      <th>owner_username</th>\n",
       "      <th>location_id</th>\n",
       "      <th>location_name</th>\n",
       "      <th>likes_count</th>\n",
       "      <th>comments_count</th>\n",
       "      <th>commenters_id</th>\n",
       "      <th>commenters_username</th>\n",
       "      <th>tagged_users_id</th>\n",
       "      <th>tagged_users_username</th>\n",
       "      <th>caption</th>\n",
       "      <th>hashtags</th>\n",
       "      <th>accessibility_caption</th>\n",
       "    </tr>\n",
       "  </thead>\n",
       "  <tbody>\n",
       "    <tr>\n",
       "      <th>0</th>\n",
       "      <td>1875572106509410527</td>\n",
       "      <td>398526345</td>\n",
       "      <td>thetravellingbeautyqueen</td>\n",
       "      <td>5.670778e+08</td>\n",
       "      <td>Mexico</td>\n",
       "      <td>11813</td>\n",
       "      <td>151</td>\n",
       "      <td>[1148667561, 177036590, 191099913, 308451883, ...</td>\n",
       "      <td>normandothemagician, waelalteen, remybaghdady,...</td>\n",
       "      <td>[28760386, 194294592, 215212085, 306780945, 36...</td>\n",
       "      <td>mexicotravel, peperlupe, camillawithlove, yuca...</td>\n",
       "      <td>My newest - 21 st magazine cover😊👸🏼👑📸❤ Mid Tim...</td>\n",
       "      <td>thetravellingbeautyqueen, lenkajosefiova, cove...</td>\n",
       "      <td></td>\n",
       "    </tr>\n",
       "    <tr>\n",
       "      <th>1</th>\n",
       "      <td>1829719472242373040</td>\n",
       "      <td>3597572</td>\n",
       "      <td>pinnywooh</td>\n",
       "      <td>2.563929e+08</td>\n",
       "      <td>Valley of Fire State Park</td>\n",
       "      <td>7163</td>\n",
       "      <td>219</td>\n",
       "      <td>[318445882, 1691724710, 3032894450, 254938180,...</td>\n",
       "      <td>mrs_vernova, giingerann, misssebyaha, puercoes...</td>\n",
       "      <td>[]</td>\n",
       "      <td></td>\n",
       "      <td>Обещала вам пост, как выглядит типичный рабочи...</td>\n",
       "      <td></td>\n",
       "      <td></td>\n",
       "    </tr>\n",
       "    <tr>\n",
       "      <th>2</th>\n",
       "      <td>1881175916568618668</td>\n",
       "      <td>756368100</td>\n",
       "      <td>putopis</td>\n",
       "      <td>NaN</td>\n",
       "      <td></td>\n",
       "      <td>936</td>\n",
       "      <td>41</td>\n",
       "      <td>[176130500, 768082182, 6113944286, 5325916, 28...</td>\n",
       "      <td>naturetalker, zeljka_dja, travelbookcroatia, a...</td>\n",
       "      <td>[21943587, 23947096, 181415118, 215124008, 276...</td>\n",
       "      <td>huffpost, natgeotravel, foodandwine, jetsettim...</td>\n",
       "      <td>Rovinj is a town full of beautiful colors and ...</td>\n",
       "      <td>Podravka, vegetamaestro, rovinj, istria, cooli...</td>\n",
       "      <td></td>\n",
       "    </tr>\n",
       "    <tr>\n",
       "      <th>3</th>\n",
       "      <td>1802821674903711318</td>\n",
       "      <td>17205419</td>\n",
       "      <td>mahfamily5</td>\n",
       "      <td>2.022789e+14</td>\n",
       "      <td>Edmonds Marina Beach Park</td>\n",
       "      <td>120</td>\n",
       "      <td>29</td>\n",
       "      <td>[17205419, 17205419, 7008936574, 7144133477, 7...</td>\n",
       "      <td>mahfamily5, mahfamily5, glampfam, mcculloughsw...</td>\n",
       "      <td>[716750476, 1024912394, 1553633873, 3288300648...</td>\n",
       "      <td>momswithcameras, king5evening, edmondsdowntown...</td>\n",
       "      <td>Mia had a great morning despite the little sle...</td>\n",
       "      <td></td>\n",
       "      <td></td>\n",
       "    </tr>\n",
       "    <tr>\n",
       "      <th>4</th>\n",
       "      <td>1938656069423140660</td>\n",
       "      <td>2088079721</td>\n",
       "      <td>frabjous_existence</td>\n",
       "      <td>1.300522e+15</td>\n",
       "      <td>The Rooftop at Pier 17</td>\n",
       "      <td>288</td>\n",
       "      <td>46</td>\n",
       "      <td>[6774931332, 2088079721, 5533385199, 690045046...</td>\n",
       "      <td>giu_lucchi, frabjous_existence, lewisnation.lo...</td>\n",
       "      <td>[18078794, 19009288, 21723588, 27410259, 20814...</td>\n",
       "      <td>nycgo, nbcnewyork, nymag, uonewyork, streeteas...</td>\n",
       "      <td>ᴛᴀsᴛʏ ᴛʜᴜʀsᴅᴀʏ, ᴀɴᴅ ᴛᴏᴅᴀʏ ᴡᴇ ᴠᴇɴᴛᴜʀᴇ ᴅᴏᴡɴ ᴛᴏ ᴘ...</td>\n",
       "      <td>skatetheskyline</td>\n",
       "      <td></td>\n",
       "    </tr>\n",
       "    <tr>\n",
       "      <th>5</th>\n",
       "      <td>1910816411687530750</td>\n",
       "      <td>2149187649</td>\n",
       "      <td>vivircorriendo</td>\n",
       "      <td>2.150268e+08</td>\n",
       "      <td>Donostia-San Sebastián, Spain</td>\n",
       "      <td>1667</td>\n",
       "      <td>36</td>\n",
       "      <td>[264336303, 250260, 7915197480, 1024511319, 10...</td>\n",
       "      <td>soyloquevivo, vaboom, carloantoniobaroni, davi...</td>\n",
       "      <td>[24570782, 29873342, 32188770, 45949544, 20015...</td>\n",
       "      <td>raulgomez82, odlo, igor_quijano, mariamainez, ...</td>\n",
       "      <td>EMBAJADORA 50/50/25 . Gracias a la Organizació...</td>\n",
       "      <td>bss505025, VivircorRiendo, QueAReirNoTeGaneNad...</td>\n",
       "      <td></td>\n",
       "    </tr>\n",
       "    <tr>\n",
       "      <th>6</th>\n",
       "      <td>2022997046060861046</td>\n",
       "      <td>5851437</td>\n",
       "      <td>griffinthall</td>\n",
       "      <td>2.346263e+08</td>\n",
       "      <td>Coachella, California</td>\n",
       "      <td>1064</td>\n",
       "      <td>31</td>\n",
       "      <td>[21787221, 9053350, 38223425, 22831662, 207836...</td>\n",
       "      <td>dyluxe, chasefisher, aaron.griver, markweeeene...</td>\n",
       "      <td>[4724305, 5851437, 5878398, 7641344, 8138633, ...</td>\n",
       "      <td>andiefitzgerald, griffinthall, sarah_cothren, ...</td>\n",
       "      <td>Such an incredible #Coachella weekend with the...</td>\n",
       "      <td>Coachella, livefree, puravidabracelets, pvtake...</td>\n",
       "      <td></td>\n",
       "    </tr>\n",
       "    <tr>\n",
       "      <th>7</th>\n",
       "      <td>1883554250934263592</td>\n",
       "      <td>513006206</td>\n",
       "      <td>zitamaleki</td>\n",
       "      <td>1.481296e+15</td>\n",
       "      <td>Bittersweet</td>\n",
       "      <td>1429</td>\n",
       "      <td>33</td>\n",
       "      <td>[7592647359, 651681146, 2124063267, 3949779833...</td>\n",
       "      <td>_baran.mystyle_, almaa_food, fafa.trv, h._zahr...</td>\n",
       "      <td>[6942978, 20158039, 20528476, 145363808, 17689...</td>\n",
       "      <td>express, fendi, pierrecardintr, swarovski, cha...</td>\n",
       "      <td>حتمن یادتون میاد که یه موقعی این بحث خیلی داغ ...</td>\n",
       "      <td></td>\n",
       "      <td></td>\n",
       "    </tr>\n",
       "    <tr>\n",
       "      <th>8</th>\n",
       "      <td>1997024571324339641</td>\n",
       "      <td>1539201055</td>\n",
       "      <td>high_vis</td>\n",
       "      <td>3.003208e+06</td>\n",
       "      <td>American Airlines Center</td>\n",
       "      <td>373</td>\n",
       "      <td>0</td>\n",
       "      <td>[]</td>\n",
       "      <td></td>\n",
       "      <td>[6114566, 13657382, 14536518, 179450081, 21943...</td>\n",
       "      <td>dallasmavs, valerie_ramirez, cyntgm, sportsill...</td>\n",
       "      <td>Killer @dallasmavs halftime show by @inthelab2...</td>\n",
       "      <td>Truemaverick, dallasmavericks, dallasmavsshop</td>\n",
       "      <td></td>\n",
       "    </tr>\n",
       "    <tr>\n",
       "      <th>9</th>\n",
       "      <td>2013304121478023187</td>\n",
       "      <td>199833517</td>\n",
       "      <td>viaja_inspirado</td>\n",
       "      <td>2.148811e+08</td>\n",
       "      <td>Valparaíso, Chile</td>\n",
       "      <td>1162</td>\n",
       "      <td>0</td>\n",
       "      <td>[]</td>\n",
       "      <td></td>\n",
       "      <td>[199833517, 260190008, 319958459, 483633802, 1...</td>\n",
       "      <td>viaja_inspirado, sientevalpo, chiletravel, fco...</td>\n",
       "      <td>Valparaiso de mi amor ❤️🎶 Que lindo es Valpara...</td>\n",
       "      <td></td>\n",
       "      <td></td>\n",
       "    </tr>\n",
       "  </tbody>\n",
       "</table>\n",
       "</div>"
      ],
      "text/plain": [
       "               post_id    owner_id            owner_username   location_id  \\\n",
       "0  1875572106509410527   398526345  thetravellingbeautyqueen  5.670778e+08   \n",
       "1  1829719472242373040     3597572                 pinnywooh  2.563929e+08   \n",
       "2  1881175916568618668   756368100                   putopis           NaN   \n",
       "3  1802821674903711318    17205419                mahfamily5  2.022789e+14   \n",
       "4  1938656069423140660  2088079721        frabjous_existence  1.300522e+15   \n",
       "5  1910816411687530750  2149187649            vivircorriendo  2.150268e+08   \n",
       "6  2022997046060861046     5851437              griffinthall  2.346263e+08   \n",
       "7  1883554250934263592   513006206                zitamaleki  1.481296e+15   \n",
       "8  1997024571324339641  1539201055                  high_vis  3.003208e+06   \n",
       "9  2013304121478023187   199833517           viaja_inspirado  2.148811e+08   \n",
       "\n",
       "                   location_name  likes_count  comments_count  \\\n",
       "0                         Mexico        11813             151   \n",
       "1      Valley of Fire State Park         7163             219   \n",
       "2                                         936              41   \n",
       "3      Edmonds Marina Beach Park          120              29   \n",
       "4         The Rooftop at Pier 17          288              46   \n",
       "5  Donostia-San Sebastián, Spain         1667              36   \n",
       "6          Coachella, California         1064              31   \n",
       "7                    Bittersweet         1429              33   \n",
       "8       American Airlines Center          373               0   \n",
       "9              Valparaíso, Chile         1162               0   \n",
       "\n",
       "                                       commenters_id  \\\n",
       "0  [1148667561, 177036590, 191099913, 308451883, ...   \n",
       "1  [318445882, 1691724710, 3032894450, 254938180,...   \n",
       "2  [176130500, 768082182, 6113944286, 5325916, 28...   \n",
       "3  [17205419, 17205419, 7008936574, 7144133477, 7...   \n",
       "4  [6774931332, 2088079721, 5533385199, 690045046...   \n",
       "5  [264336303, 250260, 7915197480, 1024511319, 10...   \n",
       "6  [21787221, 9053350, 38223425, 22831662, 207836...   \n",
       "7  [7592647359, 651681146, 2124063267, 3949779833...   \n",
       "8                                                 []   \n",
       "9                                                 []   \n",
       "\n",
       "                                 commenters_username  \\\n",
       "0  normandothemagician, waelalteen, remybaghdady,...   \n",
       "1  mrs_vernova, giingerann, misssebyaha, puercoes...   \n",
       "2  naturetalker, zeljka_dja, travelbookcroatia, a...   \n",
       "3  mahfamily5, mahfamily5, glampfam, mcculloughsw...   \n",
       "4  giu_lucchi, frabjous_existence, lewisnation.lo...   \n",
       "5  soyloquevivo, vaboom, carloantoniobaroni, davi...   \n",
       "6  dyluxe, chasefisher, aaron.griver, markweeeene...   \n",
       "7  _baran.mystyle_, almaa_food, fafa.trv, h._zahr...   \n",
       "8                                                      \n",
       "9                                                      \n",
       "\n",
       "                                     tagged_users_id  \\\n",
       "0  [28760386, 194294592, 215212085, 306780945, 36...   \n",
       "1                                                 []   \n",
       "2  [21943587, 23947096, 181415118, 215124008, 276...   \n",
       "3  [716750476, 1024912394, 1553633873, 3288300648...   \n",
       "4  [18078794, 19009288, 21723588, 27410259, 20814...   \n",
       "5  [24570782, 29873342, 32188770, 45949544, 20015...   \n",
       "6  [4724305, 5851437, 5878398, 7641344, 8138633, ...   \n",
       "7  [6942978, 20158039, 20528476, 145363808, 17689...   \n",
       "8  [6114566, 13657382, 14536518, 179450081, 21943...   \n",
       "9  [199833517, 260190008, 319958459, 483633802, 1...   \n",
       "\n",
       "                               tagged_users_username  \\\n",
       "0  mexicotravel, peperlupe, camillawithlove, yuca...   \n",
       "1                                                      \n",
       "2  huffpost, natgeotravel, foodandwine, jetsettim...   \n",
       "3  momswithcameras, king5evening, edmondsdowntown...   \n",
       "4  nycgo, nbcnewyork, nymag, uonewyork, streeteas...   \n",
       "5  raulgomez82, odlo, igor_quijano, mariamainez, ...   \n",
       "6  andiefitzgerald, griffinthall, sarah_cothren, ...   \n",
       "7  express, fendi, pierrecardintr, swarovski, cha...   \n",
       "8  dallasmavs, valerie_ramirez, cyntgm, sportsill...   \n",
       "9  viaja_inspirado, sientevalpo, chiletravel, fco...   \n",
       "\n",
       "                                             caption  \\\n",
       "0  My newest - 21 st magazine cover😊👸🏼👑📸❤ Mid Tim...   \n",
       "1  Обещала вам пост, как выглядит типичный рабочи...   \n",
       "2  Rovinj is a town full of beautiful colors and ...   \n",
       "3  Mia had a great morning despite the little sle...   \n",
       "4  ᴛᴀsᴛʏ ᴛʜᴜʀsᴅᴀʏ, ᴀɴᴅ ᴛᴏᴅᴀʏ ᴡᴇ ᴠᴇɴᴛᴜʀᴇ ᴅᴏᴡɴ ᴛᴏ ᴘ...   \n",
       "5  EMBAJADORA 50/50/25 . Gracias a la Organizació...   \n",
       "6  Such an incredible #Coachella weekend with the...   \n",
       "7  حتمن یادتون میاد که یه موقعی این بحث خیلی داغ ...   \n",
       "8  Killer @dallasmavs halftime show by @inthelab2...   \n",
       "9  Valparaiso de mi amor ❤️🎶 Que lindo es Valpara...   \n",
       "\n",
       "                                            hashtags accessibility_caption  \n",
       "0  thetravellingbeautyqueen, lenkajosefiova, cove...                        \n",
       "1                                                                           \n",
       "2  Podravka, vegetamaestro, rovinj, istria, cooli...                        \n",
       "3                                                                           \n",
       "4                                    skatetheskyline                        \n",
       "5  bss505025, VivircorRiendo, QueAReirNoTeGaneNad...                        \n",
       "6  Coachella, livefree, puravidabracelets, pvtake...                        \n",
       "7                                                                           \n",
       "8      Truemaverick, dallasmavericks, dallasmavsshop                        \n",
       "9                                                                           "
      ]
     },
     "execution_count": 12,
     "metadata": {},
     "output_type": "execute_result"
    }
   ],
   "source": [
    "df.limit(10).toPandas().head(10)"
   ]
  },
  {
   "cell_type": "markdown",
   "id": "4e9eb8d7",
   "metadata": {},
   "source": [
    "## 3. Data Analysis"
   ]
  },
  {
   "cell_type": "markdown",
   "id": "552a31b2",
   "metadata": {},
   "source": [
    "So far we have been discovering and structuring our data. Our next step will be to perform a descriptive data analysis to have a better summary our features.\n",
    "\n",
    "Since performing action functions on this huge amount of data can be costly, we will only focus on the most important features. "
   ]
  },
  {
   "cell_type": "markdown",
   "id": "3b536b6e",
   "metadata": {},
   "source": [
    "### Location"
   ]
  },
  {
   "cell_type": "markdown",
   "id": "bf96aa49",
   "metadata": {},
   "source": [
    "Let's have a look at the number of unique values in <code>location_id</code> and <code>location_name</code>. "
   ]
  },
  {
   "cell_type": "code",
   "execution_count": 13,
   "id": "679101b8",
   "metadata": {
    "pycharm": {
     "name": "#%%\n"
    }
   },
   "outputs": [
    {
     "name": "stdout",
     "output_type": "stream",
     "text": [
      "location_id:  24853\n"
     ]
    }
   ],
   "source": [
    "print(\"location_id: \", df.select(\"location_id\").distinct().count())"
   ]
  },
  {
   "cell_type": "code",
   "execution_count": 14,
   "id": "2e3298ec",
   "metadata": {
    "pycharm": {
     "name": "#%%\n"
    }
   },
   "outputs": [
    {
     "name": "stdout",
     "output_type": "stream",
     "text": [
      "location_name:  24068\n"
     ]
    }
   ],
   "source": [
    "print(\"location_name: \", df.select(\"location_name\").distinct().count())"
   ]
  },
  {
   "cell_type": "markdown",
   "id": "279900f3",
   "metadata": {},
   "source": [
    "Since the number unique values of <code>location_id</code> and <code>location_name</code> differ, we can deduce that there are some post metadata that have missing location info. \n",
    "\n",
    "Let's count how many times <code>location_id</code> and <code>location_name</code> are both missing in a post metadata."
   ]
  },
  {
   "cell_type": "code",
   "execution_count": 15,
   "id": "91c63756",
   "metadata": {
    "pycharm": {
     "name": "#%%\n"
    }
   },
   "outputs": [
    {
     "data": {
      "text/plain": [
       "19760"
      ]
     },
     "execution_count": 15,
     "metadata": {},
     "output_type": "execute_result"
    }
   ],
   "source": [
    "df.filter((col(\"location_id\").isNull()) & (col(\"location_name\") == '')).count()"
   ]
  },
  {
   "cell_type": "markdown",
   "id": "4e7f8b86",
   "metadata": {},
   "source": [
    "Let's also count the number of times a post metadata has <code>location_name</code> missing but has a <code>location_id</code> and vice versa."
   ]
  },
  {
   "cell_type": "code",
   "execution_count": 16,
   "id": "0bf354de",
   "metadata": {
    "pycharm": {
     "name": "#%%\n"
    }
   },
   "outputs": [
    {
     "data": {
      "text/plain": [
       "0"
      ]
     },
     "execution_count": 16,
     "metadata": {},
     "output_type": "execute_result"
    }
   ],
   "source": [
    "df.filter((col(\"location_id\").isNotNull()) & (col(\"location_name\") == '')).count()"
   ]
  },
  {
   "cell_type": "code",
   "execution_count": 17,
   "id": "e2bb8970",
   "metadata": {
    "pycharm": {
     "name": "#%%\n"
    }
   },
   "outputs": [
    {
     "data": {
      "text/plain": [
       "0"
      ]
     },
     "execution_count": 17,
     "metadata": {},
     "output_type": "execute_result"
    }
   ],
   "source": [
    "df.filter((col(\"location_id\").isNull()) & (col(\"location_name\") != '')).count()"
   ]
  },
  {
   "cell_type": "markdown",
   "id": "4b805e29",
   "metadata": {},
   "source": [
    "Based on the missing counts above, we noticed that there are 19,760 post metadata with no information about its location, therefore we will drop these rows."
   ]
  },
  {
   "cell_type": "code",
   "execution_count": 9,
   "id": "e554a3b7",
   "metadata": {
    "pycharm": {
     "name": "#%%\n"
    }
   },
   "outputs": [],
   "source": [
    "df = df[(df.location_id.isNotNull()) & (df.location_name != '')]"
   ]
  },
  {
   "cell_type": "code",
   "execution_count": 19,
   "id": "7b2d2fb8",
   "metadata": {
    "pycharm": {
     "name": "#%%\n"
    }
   },
   "outputs": [
    {
     "name": "stdout",
     "output_type": "stream",
     "text": [
      "19760 rows dropped successfully!\n"
     ]
    }
   ],
   "source": [
    "assert df.count() == (68353-19760)\n",
    "print(\"19760 rows dropped successfully!\")"
   ]
  },
  {
   "cell_type": "markdown",
   "id": "c0c826a0",
   "metadata": {},
   "source": [
    "### Instagram Users"
   ]
  },
  {
   "cell_type": "markdown",
   "id": "e00936c9",
   "metadata": {},
   "source": [
    "Let's check out <code>owner_id</code> and <code>owner_username</code>"
   ]
  },
  {
   "cell_type": "code",
   "execution_count": 20,
   "id": "973d34ae",
   "metadata": {
    "pycharm": {
     "name": "#%%\n"
    }
   },
   "outputs": [
    {
     "data": {
      "text/plain": [
       "0"
      ]
     },
     "execution_count": 20,
     "metadata": {},
     "output_type": "execute_result"
    }
   ],
   "source": [
    "df.filter((col(\"owner_id\").isNull()) & (col(\"owner_username\") == '')).count()"
   ]
  },
  {
   "cell_type": "code",
   "execution_count": 21,
   "id": "8019f34f",
   "metadata": {
    "pycharm": {
     "name": "#%%\n"
    }
   },
   "outputs": [
    {
     "data": {
      "text/plain": [
       "0"
      ]
     },
     "execution_count": 21,
     "metadata": {},
     "output_type": "execute_result"
    }
   ],
   "source": [
    "df.filter((col(\"owner_id\").isNotNull()) & (col(\"owner_username\") == '')).count()"
   ]
  },
  {
   "cell_type": "code",
   "execution_count": 22,
   "id": "a1522d00",
   "metadata": {
    "pycharm": {
     "name": "#%%\n"
    }
   },
   "outputs": [
    {
     "data": {
      "text/plain": [
       "0"
      ]
     },
     "execution_count": 22,
     "metadata": {},
     "output_type": "execute_result"
    }
   ],
   "source": [
    "df.filter((col(\"owner_id\").isNull()) & (col(\"owner_username\") != '')).count()"
   ]
  },
  {
   "cell_type": "markdown",
   "id": "6497f575",
   "metadata": {},
   "source": [
    "Based on the above, we noticed that there are no missing information about the owner of the post, therefore no rows needs to be dropped."
   ]
  },
  {
   "cell_type": "markdown",
   "id": "1712a1d6",
   "metadata": {},
   "source": [
    "### Hashtags"
   ]
  },
  {
   "cell_type": "markdown",
   "id": "4a041083",
   "metadata": {},
   "source": [
    "Let's now see <code>hashtags</code>"
   ]
  },
  {
   "cell_type": "code",
   "execution_count": 23,
   "id": "a098cb10",
   "metadata": {
    "pycharm": {
     "name": "#%%\n"
    }
   },
   "outputs": [
    {
     "data": {
      "text/plain": [
       "15480"
      ]
     },
     "execution_count": 23,
     "metadata": {},
     "output_type": "execute_result"
    }
   ],
   "source": [
    "df.filter(col(\"hashtags\") == '').count()"
   ]
  },
  {
   "cell_type": "markdown",
   "id": "b799dbab",
   "metadata": {},
   "source": [
    "There are 15480 missing hashtags. \n",
    "\n",
    "Although it is a considerable amount, we still decide to keep them. Users and algorithms use hashtags to identify content that relates to a particular topic or falls into a specific category. In addition to making content more discoverable in on-platform searches, hashtags help content reach more people. This will enable us to discover a specific post location regarding an input by correlation and significance."
   ]
  },
  {
   "cell_type": "markdown",
   "id": "39511843",
   "metadata": {},
   "source": [
    "### Caption"
   ]
  },
  {
   "cell_type": "code",
   "execution_count": 24,
   "id": "d0478641",
   "metadata": {
    "pycharm": {
     "name": "#%%\n"
    }
   },
   "outputs": [
    {
     "data": {
      "text/plain": [
       "312"
      ]
     },
     "execution_count": 24,
     "metadata": {},
     "output_type": "execute_result"
    }
   ],
   "source": [
    "df.filter(col(\"caption\") == '').count()"
   ]
  },
  {
   "cell_type": "markdown",
   "id": "e7d027e1",
   "metadata": {},
   "source": [
    "312 missing captions is negligible as it's only 0.64% of our data. \n",
    "\n",
    "Images and posts shared on Instagram can be enhanced with captions that provide context and details that users would not otherwise know. For the same reason as hashtags, it makes content more discoverable in on-platform searches. Thus, engaging discovery for a specific post location."
   ]
  },
  {
   "cell_type": "markdown",
   "id": "97dff54e",
   "metadata": {},
   "source": [
    "### Accessibility Caption"
   ]
  },
  {
   "cell_type": "markdown",
   "id": "bf34bec6",
   "metadata": {},
   "source": [
    "We will now take a look at <code>accessibility_caption</code>"
   ]
  },
  {
   "cell_type": "markdown",
   "id": "1eed74ba",
   "metadata": {},
   "source": [
    "Similar to both hashtags and captions, accessibility captions helps a specific post reach more users by its description. Images on Instagram are automatically tagged with alt text using AI. Giving a specific post more description will enable more reach to its location."
   ]
  },
  {
   "cell_type": "code",
   "execution_count": 25,
   "id": "7a8313fb",
   "metadata": {
    "pycharm": {
     "name": "#%%\n"
    }
   },
   "outputs": [
    {
     "data": {
      "text/html": [
       "<div>\n",
       "<style scoped>\n",
       "    .dataframe tbody tr th:only-of-type {\n",
       "        vertical-align: middle;\n",
       "    }\n",
       "\n",
       "    .dataframe tbody tr th {\n",
       "        vertical-align: top;\n",
       "    }\n",
       "\n",
       "    .dataframe thead th {\n",
       "        text-align: right;\n",
       "    }\n",
       "</style>\n",
       "<table border=\"1\" class=\"dataframe\">\n",
       "  <thead>\n",
       "    <tr style=\"text-align: right;\">\n",
       "      <th></th>\n",
       "      <th>accessibility_caption</th>\n",
       "    </tr>\n",
       "  </thead>\n",
       "  <tbody>\n",
       "    <tr>\n",
       "      <th>0</th>\n",
       "      <td>Image may contain: one or more people, people ...</td>\n",
       "    </tr>\n",
       "    <tr>\n",
       "      <th>1</th>\n",
       "      <td>Image may contain: indoor</td>\n",
       "    </tr>\n",
       "    <tr>\n",
       "      <th>2</th>\n",
       "      <td>Image may contain: 2 people, outdoor</td>\n",
       "    </tr>\n",
       "    <tr>\n",
       "      <th>3</th>\n",
       "      <td>Image may contain: plant, tree, flower and out...</td>\n",
       "    </tr>\n",
       "    <tr>\n",
       "      <th>4</th>\n",
       "      <td>Image may contain: sky, ocean, outdoor and water</td>\n",
       "    </tr>\n",
       "  </tbody>\n",
       "</table>\n",
       "</div>"
      ],
      "text/plain": [
       "                               accessibility_caption\n",
       "0  Image may contain: one or more people, people ...\n",
       "1                          Image may contain: indoor\n",
       "2               Image may contain: 2 people, outdoor\n",
       "3  Image may contain: plant, tree, flower and out...\n",
       "4   Image may contain: sky, ocean, outdoor and water"
      ]
     },
     "execution_count": 25,
     "metadata": {},
     "output_type": "execute_result"
    }
   ],
   "source": [
    "df.select(\"accessibility_caption\").filter((col(\"accessibility_caption\") != '') & \n",
    "          (col(\"accessibility_caption\") != 'No photo description available.')).limit(5).toPandas().head(5)"
   ]
  },
  {
   "cell_type": "markdown",
   "id": "dcc17810",
   "metadata": {},
   "source": [
    "In the previous section the first 10 rows of the column <code>accessibility_caption</code> were missing values, let's see how many in total are missing"
   ]
  },
  {
   "cell_type": "code",
   "execution_count": 26,
   "id": "aea7bfd8",
   "metadata": {
    "pycharm": {
     "name": "#%%\n"
    }
   },
   "outputs": [
    {
     "data": {
      "text/plain": [
       "3855"
      ]
     },
     "execution_count": 26,
     "metadata": {},
     "output_type": "execute_result"
    }
   ],
   "source": [
    "df.filter((col(\"accessibility_caption\") == '')).count()"
   ]
  },
  {
   "cell_type": "code",
   "execution_count": 27,
   "id": "eb44ff40",
   "metadata": {
    "pycharm": {
     "name": "#%%\n"
    }
   },
   "outputs": [
    {
     "data": {
      "text/plain": [
       "12117"
      ]
     },
     "execution_count": 27,
     "metadata": {},
     "output_type": "execute_result"
    }
   ],
   "source": [
    "df.filter((col(\"accessibility_caption\") == 'No photo description available.')).count()"
   ]
  },
  {
   "cell_type": "code",
   "execution_count": 28,
   "id": "75cc3cd8",
   "metadata": {
    "pycharm": {
     "name": "#%%\n"
    }
   },
   "outputs": [
    {
     "data": {
      "text/plain": [
       "32621"
      ]
     },
     "execution_count": 28,
     "metadata": {},
     "output_type": "execute_result"
    }
   ],
   "source": [
    "df.filter((col(\"accessibility_caption\") != '') &\n",
    "          (col(\"accessibility_caption\") != 'No photo description available.')).count()"
   ]
  },
  {
   "cell_type": "markdown",
   "id": "7f277e3e",
   "metadata": {},
   "source": [
    "Accessibility captions are captions containing text information required to understand the content. Although many are missing, we keep them for the same reason that we keep hashtags and captions. They create engagement and awareness, giving more reach to a specific post location."
   ]
  },
  {
   "cell_type": "markdown",
   "id": "d0cf1793",
   "metadata": {},
   "source": [
    "## 4. Content Based Recommendation"
   ]
  },
  {
   "cell_type": "markdown",
   "id": "6a2afb13",
   "metadata": {},
   "source": [
    "### Model 1: Euclidean Distance (Location name + Hashtags)"
   ]
  },
  {
   "cell_type": "code",
   "execution_count": 10,
   "id": "4571a235",
   "metadata": {
    "pycharm": {
     "name": "#%%\n"
    }
   },
   "outputs": [],
   "source": [
    "cb_df = df.toPandas()"
   ]
  },
  {
   "cell_type": "markdown",
   "id": "0db2bb53",
   "metadata": {},
   "source": [
    "Combine features for similarity extraction"
   ]
  },
  {
   "cell_type": "code",
   "execution_count": 13,
   "id": "4988f80c",
   "metadata": {
    "pycharm": {
     "name": "#%%\n"
    }
   },
   "outputs": [
    {
     "name": "stdout",
     "output_type": "stream",
     "text": [
      "0        Mexico thetravellingbeautyqueen, lenkajosefiov...\n",
      "1                               Valley of Fire State Park \n",
      "2         Podravka, vegetamaestro, rovinj, istria, cool...\n",
      "3                               Edmonds Marina Beach Park \n",
      "4                   The Rooftop at Pier 17 skatetheskyline\n",
      "                               ...                        \n",
      "68348                          colosseo, roma, primomaggio\n",
      "68349                                                     \n",
      "68350                                                     \n",
      "68351                                                     \n",
      "68352                                                     \n",
      "Length: 68353, dtype: object\n"
     ]
    }
   ],
   "source": [
    "combined_features1 = cb_df[\"location_name\"] + \" \" + cb_df[\"hashtags\"]\n",
    "print(combined_features1)"
   ]
  },
  {
   "cell_type": "markdown",
   "id": "60d95b5a",
   "metadata": {},
   "source": [
    "Use TF-IDF Vectorizer to convert the text data to feature vectors"
   ]
  },
  {
   "cell_type": "code",
   "execution_count": 14,
   "id": "e850ea62",
   "metadata": {
    "pycharm": {
     "name": "#%%\n"
    }
   },
   "outputs": [
    {
     "name": "stdout",
     "output_type": "stream",
     "text": [
      "  (0, 68521)\t0.23098938050536338\n",
      "  (0, 94850)\t0.19594530957059303\n",
      "  (0, 87912)\t0.23947764098809884\n",
      "  (0, 20999)\t0.23098938050536338\n",
      "  (0, 117000)\t0.1902524788808375\n",
      "  (0, 18128)\t0.23947764098809884\n",
      "  (0, 34909)\t0.23947764098809884\n",
      "  (0, 34728)\t0.21325151650274152\n",
      "  (0, 7990)\t0.20029216206039419\n",
      "  (0, 7992)\t0.22029543700918258\n",
      "  (0, 121424)\t0.17839520132173398\n",
      "  (0, 57478)\t0.23098938050536338\n",
      "  (0, 19901)\t0.23947764098809884\n",
      "  (0, 72262)\t0.23947764098809884\n",
      "  (0, 91957)\t0.23947764098809884\n",
      "  (0, 25196)\t0.22496686384893022\n",
      "  (0, 72989)\t0.20378937688102833\n",
      "  (0, 25199)\t0.23947764098809884\n",
      "  (0, 63319)\t0.21325151650274152\n",
      "  (0, 112186)\t0.20578465987001401\n",
      "  (0, 71941)\t0.13409900112342713\n",
      "  (1, 85318)\t0.3246573982470178\n",
      "  (1, 105353)\t0.455603410764458\n",
      "  (1, 37411)\t0.55645488393116\n",
      "  (1, 81730)\t0.38669250158538854\n",
      "  :\t:\n",
      "  (68305, 49490)\t1.0\n",
      "  (68308, 46646)\t1.0\n",
      "  (68312, 5730)\t0.6693606112876573\n",
      "  (68312, 22674)\t0.7429376636411792\n",
      "  (68315, 70927)\t0.8216235978785972\n",
      "  (68315, 69508)\t0.5700304056881783\n",
      "  (68316, 126830)\t0.6931462363347545\n",
      "  (68316, 943)\t0.6511461125703528\n",
      "  (68316, 10148)\t0.309123009721829\n",
      "  (68324, 79906)\t1.0\n",
      "  (68326, 124267)\t0.8373225201785072\n",
      "  (68326, 46361)\t0.5467092437501982\n",
      "  (68328, 127028)\t0.6214537706456281\n",
      "  (68328, 76736)\t0.5629525811645005\n",
      "  (68328, 14974)\t0.4827827551390079\n",
      "  (68328, 66425)\t0.2525874376348639\n",
      "  (68329, 74527)\t0.40528177027061735\n",
      "  (68329, 123458)\t0.3866091222961344\n",
      "  (68329, 24999)\t0.4522789284600011\n",
      "  (68329, 128262)\t0.42663267281300304\n",
      "  (68329, 94799)\t0.389178022091511\n",
      "  (68329, 50047)\t0.3850310035882469\n",
      "  (68348, 90532)\t0.71402127992398\n",
      "  (68348, 23631)\t0.5569170061794636\n",
      "  (68348, 95345)\t0.42428417369002175\n"
     ]
    }
   ],
   "source": [
    "vectorizer1 = TfidfVectorizer()\n",
    "feature_vectors1 = vectorizer1.fit_transform(combined_features1)\n",
    "print(feature_vectors1)"
   ]
  },
  {
   "cell_type": "markdown",
   "id": "c1ee7139",
   "metadata": {},
   "source": [
    "Calculate euclidean distances of feature vectors"
   ]
  },
  {
   "cell_type": "code",
   "execution_count": 15,
   "id": "ddf87cf8",
   "metadata": {
    "pycharm": {
     "name": "#%%\n"
    }
   },
   "outputs": [
    {
     "name": "stdout",
     "output_type": "stream",
     "text": [
      "[[0.         1.41421356 1.41421356 ... 1.         1.         1.        ]\n",
      " [1.41421356 0.         1.41421356 ... 1.         1.         1.        ]\n",
      " [1.41421356 1.41421356 0.         ... 1.         1.         1.        ]\n",
      " ...\n",
      " [1.         1.         1.         ... 0.         0.         0.        ]\n",
      " [1.         1.         1.         ... 0.         0.         0.        ]\n",
      " [1.         1.         1.         ... 0.         0.         0.        ]]\n"
     ]
    }
   ],
   "source": [
    "euc_dist1 = euclidean_distances(feature_vectors1)\n",
    "print(euc_dist1)"
   ]
  },
  {
   "cell_type": "markdown",
   "id": "bc62ba22",
   "metadata": {},
   "source": [
    "Let's try our recommendation on the user who wrote the first post in our dataset"
   ]
  },
  {
   "cell_type": "code",
   "execution_count": 17,
   "id": "d35ded87",
   "metadata": {
    "pycharm": {
     "name": "#%%\n"
    }
   },
   "outputs": [
    {
     "name": "stdout",
     "output_type": "stream",
     "text": [
      "post_id                                                1875572106509410527\n",
      "owner_id                                                         398526345\n",
      "owner_username                                    thetravellingbeautyqueen\n",
      "location_id                                                      567077758\n",
      "location_name                                                       Mexico\n",
      "likes_count                                                          11813\n",
      "comments_count                                                         151\n",
      "commenters_id            [1148667561, 177036590, 191099913, 308451883, ...\n",
      "commenters_username      normandothemagician, waelalteen, remybaghdady,...\n",
      "tagged_users_id          [28760386, 194294592, 215212085, 306780945, 36...\n",
      "tagged_users_username    mexicotravel, peperlupe, camillawithlove, yuca...\n",
      "caption                  My newest - 21 st magazine cover😊👸🏼👑📸❤ Mid Tim...\n",
      "hashtags                 thetravellingbeautyqueen, lenkajosefiova, cove...\n",
      "accessibility_caption                                                     \n",
      "Name: 0, dtype: object\n"
     ]
    }
   ],
   "source": [
    "first_post_index = 0\n",
    "first_post = cb_df.iloc[first_post_index]\n",
    "print(first_post)"
   ]
  },
  {
   "cell_type": "markdown",
   "id": "3fb963c3",
   "metadata": {},
   "source": [
    "The location of the user's post"
   ]
  },
  {
   "cell_type": "code",
   "execution_count": 17,
   "id": "882fdc41",
   "metadata": {
    "pycharm": {
     "name": "#%%\n"
    }
   },
   "outputs": [
    {
     "name": "stdout",
     "output_type": "stream",
     "text": [
      "Mexico\n"
     ]
    }
   ],
   "source": [
    "first_post_location = first_post[\"location_name\"]\n",
    "print(first_post_location)"
   ]
  },
  {
   "cell_type": "code",
   "execution_count": 18,
   "id": "adf4b348",
   "metadata": {
    "pycharm": {
     "name": "#%%\n"
    }
   },
   "outputs": [
    {
     "name": "stdout",
     "output_type": "stream",
     "text": [
      "[(0, 0.0), (1, 1.4142135623730951), (2, 1.4142135623730951), (3, 1.4142135623730951), (4, 1.4142135623730951)]\n"
     ]
    }
   ],
   "source": [
    "euc_score1 = list(enumerate(euc_dist1[first_post_index]))\n",
    "print(euc_score1[:5])"
   ]
  },
  {
   "cell_type": "code",
   "execution_count": 19,
   "id": "e70eb062",
   "metadata": {
    "pycharm": {
     "name": "#%%\n"
    }
   },
   "outputs": [
    {
     "data": {
      "image/png": "[encoded data removed]",
      "text/plain": [
       "<Figure size 432x288 with 1 Axes>"
      ]
     },
     "metadata": {
      "needs_background": "light"
     },
     "output_type": "display_data"
    }
   ],
   "source": [
    "plt.scatter(*zip(*euc_score1))\n",
    "plt.title(\"Similarity Scores for All Posts\")\n",
    "plt.xlabel(\"Index\")\n",
    "plt.ylabel(\"Similarity Scores\")\n",
    "plt.show()"
   ]
  },
  {
   "cell_type": "markdown",
   "id": "e232ebf0",
   "metadata": {},
   "source": [
    "Remove the location of the first post from our score list because we don't want to recommend a location we already posted"
   ]
  },
  {
   "cell_type": "code",
   "execution_count": 20,
   "id": "0d23852d",
   "metadata": {
    "pycharm": {
     "name": "#%%\n"
    }
   },
   "outputs": [],
   "source": [
    "euc_score1 = list(filter(lambda x: x[0] != first_post_index, euc_score1))"
   ]
  },
  {
   "cell_type": "markdown",
   "id": "fc032b20",
   "metadata": {},
   "source": [
    "Sort our euclidean score list from low to high because we want the closest points"
   ]
  },
  {
   "cell_type": "code",
   "execution_count": 21,
   "id": "1970625d",
   "metadata": {
    "pycharm": {
     "name": "#%%\n"
    }
   },
   "outputs": [],
   "source": [
    "sorted_locations1 = sorted(euc_score1, key = lambda x:x[1], reverse=False)"
   ]
  },
  {
   "cell_type": "markdown",
   "id": "008558f6",
   "metadata": {},
   "source": [
    "Print our top 5 recommended locations"
   ]
  },
  {
   "cell_type": "code",
   "execution_count": 22,
   "id": "b52d0da0",
   "metadata": {
    "pycharm": {
     "name": "#%%\n"
    }
   },
   "outputs": [
    {
     "name": "stdout",
     "output_type": "stream",
     "text": [
      "Top 5: Locations suggested for you: \n",
      "\n",
      "1 . \n",
      "2 . D.U.M.B.O.\n",
      "3 . A/D/O\n",
      "4 . Hong Kong Cultural Centre\n",
      "5 . AZULIK Tulum\n"
     ]
    }
   ],
   "source": [
    "print(\"Top 5: Locations suggested for you: \\n\")\n",
    "x1 = []\n",
    "y1 = []\n",
    "i = 1\n",
    "unique_locations1 = set()\n",
    "\n",
    "for location in sorted_locations1:\n",
    "    \n",
    "    index = location[0]\n",
    "    location_name = cb_df[cb_df.index == index][\"location_name\"].values\n",
    "    \n",
    "    if (i <= 5 and not (location_name[0] in unique_locations1)):\n",
    "        \n",
    "        unique_locations1.add(location_name[0])\n",
    "        x1.append(location_name[0])\n",
    "        y1.append(location[1])\n",
    "        print(i,'.',location_name[0])\n",
    "        i+=1"
   ]
  },
  {
   "cell_type": "code",
   "execution_count": 23,
   "id": "6b0821f0",
   "metadata": {
    "pycharm": {
     "name": "#%%\n"
    }
   },
   "outputs": [
    {
     "data": {
      "image/png": "[encoded data removed]",
      "text/plain": [
       "<Figure size 432x288 with 1 Axes>"
      ]
     },
     "metadata": {
      "needs_background": "light"
     },
     "output_type": "display_data"
    }
   ],
   "source": [
    "fig, ax = plt.subplots()\n",
    "ax.bar(x1, y1, linestyle='-')\n",
    "ax.set_ylabel(\"Similarity Score\")\n",
    "ax.set_xlabel(\"Location Name\")\n",
    "ax.set_title(\"Top 5 Locations Recommended\")\n",
    "plt.setp(ax.get_xticklabels(), rotation=30, horizontalalignment='right')\n",
    "fig.autofmt_xdate()"
   ]
  },
  {
   "cell_type": "markdown",
   "id": "65a2984b",
   "metadata": {},
   "source": [
    "We can see this model is not too effective when only considering two features, location name and hashtags. Let's see if we can improve this by adding features"
   ]
  },
  {
   "cell_type": "markdown",
   "id": "f6cd8fc0",
   "metadata": {},
   "source": [
    "### Model 2: Euclidean Distance (Location name + Hashtags + Caption + Accessibility Caption)"
   ]
  },
  {
   "cell_type": "markdown",
   "id": "2155c1e8",
   "metadata": {
    "pycharm": {
     "name": "#%%\n"
    }
   },
   "source": [
    "We'll add two additional fields to our first model, caption and accessibility Caption"
   ]
  },
  {
   "cell_type": "code",
   "execution_count": 11,
   "id": "bf603448",
   "metadata": {},
   "outputs": [
    {
     "name": "stdout",
     "output_type": "stream",
     "text": [
      "0        Mexico thetravellingbeautyqueen, lenkajosefiov...\n",
      "1        Valley of Fire State Park  Обещала вам пост, к...\n",
      "2        Edmonds Marina Beach Park  Mia had a great mor...\n",
      "3        The Rooftop at Pier 17 skatetheskyline ᴛᴀsᴛʏ ᴛ...\n",
      "4        Donostia-San Sebastián, Spain bss505025, Vivir...\n",
      "                               ...                        \n",
      "48588    Concert @ Sea  Golden Earring. Hard. Goed! No ...\n",
      "48589    Gateway Arch Missouri St. Louis #Missouri No p...\n",
      "48590    St.Tropez Yacht Port  Port St. Tropez ⚓️ No ph...\n",
      "48591    Toulouse, France  s u n d a y No photo descrip...\n",
      "48592    Golden Bee sol, sunny, London, moments #sol #s...\n",
      "Length: 48593, dtype: object\n"
     ]
    }
   ],
   "source": [
    "combined_features2 = cb_df[\"location_name\"] + \" \" + cb_df[\"hashtags\"] + \" \" + \\\n",
    "                    cb_df[\"caption\"] + \" \" + cb_df[\"accessibility_caption\"]\n",
    "print(combined_features2)"
   ]
  },
  {
   "cell_type": "markdown",
   "id": "d258a677",
   "metadata": {},
   "source": [
    "Use TF-IDF Vectorizer to convert the text data to feature vectors"
   ]
  },
  {
   "cell_type": "code",
   "execution_count": 12,
   "id": "b8b6bfe0",
   "metadata": {},
   "outputs": [
    {
     "name": "stdout",
     "output_type": "stream",
     "text": [
      "  (0, 159293)\t0.07929269527660017\n",
      "  (0, 123498)\t0.07929269527660017\n",
      "  (0, 124669)\t0.016135058550480853\n",
      "  (0, 83600)\t0.07434036400056193\n",
      "  (0, 150708)\t0.07639576718896923\n",
      "  (0, 83599)\t0.06400255648427022\n",
      "  (0, 82788)\t0.07274606942761583\n",
      "  (0, 48556)\t0.0653897436931544\n",
      "  (0, 93503)\t0.03723822559612455\n",
      "  (0, 55010)\t0.03703281955455497\n",
      "  (0, 105896)\t0.04361327226849222\n",
      "  (0, 14960)\t0.038770767807356235\n",
      "  (0, 70572)\t0.03886982941193402\n",
      "  (0, 33113)\t0.05806996383772498\n",
      "  (0, 181259)\t0.0333140346752936\n",
      "  (0, 126171)\t0.030264060670833454\n",
      "  (0, 98809)\t0.04207245990615057\n",
      "  (0, 72826)\t0.03165017975237631\n",
      "  (0, 112833)\t0.02467030213522473\n",
      "  (0, 55540)\t0.05106222937327943\n",
      "  (0, 41124)\t0.04339855716531543\n",
      "  (0, 84810)\t0.15858539055320034\n",
      "  (0, 92372)\t0.14868072800112386\n",
      "  (0, 113233)\t0.03263150925022463\n",
      "  (0, 151287)\t0.037925144999346475\n",
      "  :\t:\n",
      "  (48589, 153475)\t0.24683944233887492\n",
      "  (48590, 169120)\t0.6594016185272257\n",
      "  (48590, 127880)\t0.5093503775951874\n",
      "  (48590, 184383)\t0.28789964725605116\n",
      "  (48590, 13469)\t0.08909877075495867\n",
      "  (48590, 42202)\t0.08952299537753788\n",
      "  (48590, 114085)\t0.08457750834096786\n",
      "  (48590, 124669)\t0.08465344947075001\n",
      "  (48590, 153475)\t0.4388541584185819\n",
      "  (48591, 166438)\t0.7725563407486672\n",
      "  (48591, 13469)\t0.22998036394325422\n",
      "  (48591, 42202)\t0.23107536595358252\n",
      "  (48591, 59962)\t0.44884923900738327\n",
      "  (48591, 114085)\t0.2183101515863156\n",
      "  (48591, 124669)\t0.21850616965163316\n",
      "  (48592, 150722)\t0.5564894574222949\n",
      "  (48592, 156896)\t0.454576866444721\n",
      "  (48592, 17259)\t0.3351274301929782\n",
      "  (48592, 65647)\t0.2318183795497545\n",
      "  (48592, 95413)\t0.32971571839216535\n",
      "  (48592, 36028)\t0.05335518717498764\n",
      "  (48592, 101901)\t0.0531824043651636\n",
      "  (48592, 77617)\t0.053309580484406545\n",
      "  (48592, 124005)\t0.0963487253975938\n",
      "  (48592, 106336)\t0.4371688613816758\n"
     ]
    }
   ],
   "source": [
    "vectorizer2 = TfidfVectorizer()\n",
    "feature_vectors2 = vectorizer2.fit_transform(combined_features2)\n",
    "print(feature_vectors2)"
   ]
  },
  {
   "cell_type": "code",
   "execution_count": 13,
   "id": "393605b0",
   "metadata": {},
   "outputs": [
    {
     "name": "stdout",
     "output_type": "stream",
     "text": [
      "[[0.         1.41272905 1.38078734 ... 1.4001999  1.41171838 1.41421356]\n",
      " [1.41272905 0.         1.41212805 ... 1.41421356 1.41421356 1.41421356]\n",
      " [1.38078734 1.41212805 0.         ... 1.41421356 1.41421356 1.41421356]\n",
      " ...\n",
      " [1.4001999  1.41421356 1.41421356 ... 0.         1.35783728 1.41421356]\n",
      " [1.41171838 1.41421356 1.41421356 ... 1.35783728 0.         1.41421356]\n",
      " [1.41421356 1.41421356 1.41421356 ... 1.41421356 1.41421356 0.        ]]\n"
     ]
    }
   ],
   "source": [
    "euc_dist2 = euclidean_distances(feature_vectors2)\n",
    "print(euc_dist2)"
   ]
  },
  {
   "cell_type": "code",
   "execution_count": 18,
   "id": "f06ecb0c",
   "metadata": {},
   "outputs": [
    {
     "name": "stdout",
     "output_type": "stream",
     "text": [
      "[(0, 0.0), (1, 1.4127290525432554), (2, 1.3807873419278993), (3, 1.3711096847393576), (4, 1.4142135623730951)]\n"
     ]
    }
   ],
   "source": [
    "euc_score2 = list(enumerate(euc_dist2[first_post_index]))\n",
    "print(euc_score2[:5]) "
   ]
  },
  {
   "cell_type": "code",
   "execution_count": 19,
   "id": "f69ed38a",
   "metadata": {},
   "outputs": [
    {
     "data": {
      "image/png": "[encoded data removed]",
      "text/plain": [
       "<Figure size 432x288 with 1 Axes>"
      ]
     },
     "metadata": {
      "needs_background": "light"
     },
     "output_type": "display_data"
    }
   ],
   "source": [
    "plt.scatter(*zip(*euc_score2))\n",
    "plt.title(\"Similarity Scores for All Posts\")\n",
    "plt.xlabel(\"Index\")\n",
    "plt.ylabel(\"Similarity Scores\")\n",
    "plt.show()"
   ]
  },
  {
   "cell_type": "code",
   "execution_count": 20,
   "id": "57611cdd",
   "metadata": {},
   "outputs": [],
   "source": [
    "euc_score2 = list(filter(lambda x: x[0] != first_post_index, euc_score2))"
   ]
  },
  {
   "cell_type": "code",
   "execution_count": 21,
   "id": "490d8164",
   "metadata": {},
   "outputs": [],
   "source": [
    "sorted_locations2 = sorted(euc_score2, key = lambda x:x[1], reverse=False)"
   ]
  },
  {
   "cell_type": "code",
   "execution_count": 22,
   "id": "7ae576bd",
   "metadata": {},
   "outputs": [
    {
     "name": "stdout",
     "output_type": "stream",
     "text": [
      "Top 5: Locations suggested for you: \n",
      "\n",
      "1 . Mexico City, Mexico\n",
      "2 . Chichen Itza\n",
      "3 . Hong Kong Cultural Centre\n",
      "4 . Playa del Carmen, Quintana Roo\n",
      "5 . Tulum\n"
     ]
    }
   ],
   "source": [
    "print(\"Top 5: Locations suggested for you: \\n\")\n",
    "x2 = []\n",
    "y2 = []\n",
    "i = 1\n",
    "unique_locations2 = set()\n",
    "\n",
    "for location in sorted_locations2:\n",
    "    \n",
    "    index = location[0]\n",
    "    location_name = cb_df[cb_df.index == index][\"location_name\"].values\n",
    "    \n",
    "    if (i <= 5 and not (location_name[0] in unique_locations2)):\n",
    "        \n",
    "        unique_locations2.add(location_name[0])\n",
    "        x2.append(location_name[0])\n",
    "        y2.append(location[1])\n",
    "        print(i,'.',location_name[0])\n",
    "        i+=1"
   ]
  },
  {
   "cell_type": "code",
   "execution_count": 23,
   "id": "066f98e9",
   "metadata": {},
   "outputs": [
    {
     "data": {
      "image/png": "[encoded data removed]",
      "text/plain": [
       "<Figure size 432x288 with 1 Axes>"
      ]
     },
     "metadata": {
      "needs_background": "light"
     },
     "output_type": "display_data"
    }
   ],
   "source": [
    "fig, ax = plt.subplots()\n",
    "ax.bar(x2, y2, linestyle='-')\n",
    "ax.set_ylabel(\"Similarity Score\")\n",
    "ax.set_xlabel(\"Location Name\")\n",
    "ax.set_title(\"Top 5 Locations Recommended\")\n",
    "plt.setp(ax.get_xticklabels(), rotation=30, horizontalalignment='right')\n",
    "fig.autofmt_xdate()"
   ]
  },
  {
   "cell_type": "markdown",
   "id": "ff9d7034",
   "metadata": {},
   "source": [
    "### Model 3: Cosine Similarity (Location name + Hashtags + Caption + Accessibility Caption)"
   ]
  },
  {
   "cell_type": "markdown",
   "id": "7f8ef095",
   "metadata": {},
   "source": [
    "Find cosine similarity of feature vectors"
   ]
  },
  {
   "cell_type": "code",
   "execution_count": 43,
   "id": "510c2b74",
   "metadata": {
    "pycharm": {
     "name": "#%%\n"
    }
   },
   "outputs": [
    {
     "name": "stdout",
     "output_type": "stream",
     "text": [
      "(48593, 48593)\n"
     ]
    }
   ],
   "source": [
    "similarity = cosine_similarity(feature_vectors2)\n",
    "print(similarity.shape)"
   ]
  },
  {
   "cell_type": "code",
   "execution_count": 44,
   "id": "041d3064",
   "metadata": {
    "pycharm": {
     "name": "#%%\n"
    }
   },
   "outputs": [
    {
     "name": "stdout",
     "output_type": "stream",
     "text": [
      "[[1.         0.00209831 0.04671316 ... 0.01972012 0.00352561 0.        ]\n",
      " [0.00209831 1.         0.00294718 ... 0.         0.         0.        ]\n",
      " [0.04671316 0.00294718 1.         ... 0.         0.         0.        ]\n",
      " ...\n",
      " [0.01972012 0.         0.         ... 1.         0.07813896 0.        ]\n",
      " [0.00352561 0.         0.         ... 0.07813896 1.         0.        ]\n",
      " [0.         0.         0.         ... 0.         0.         1.        ]]\n"
     ]
    }
   ],
   "source": [
    "print(similarity)"
   ]
  },
  {
   "cell_type": "code",
   "execution_count": 45,
   "id": "157cb63e",
   "metadata": {
    "pycharm": {
     "name": "#%%\n"
    }
   },
   "outputs": [],
   "source": [
    "similarity_score = list(enumerate(similarity[first_post_index]))"
   ]
  },
  {
   "cell_type": "markdown",
   "id": "fe02d669",
   "metadata": {},
   "source": [
    "Graph showing the locations and their similarity scores"
   ]
  },
  {
   "cell_type": "code",
   "execution_count": 46,
   "id": "7eb746b8",
   "metadata": {
    "pycharm": {
     "name": "#%%\n"
    }
   },
   "outputs": [
    {
     "data": {
      "image/png": "[encoded data removed]",
      "text/plain": [
       "<Figure size 432x288 with 1 Axes>"
      ]
     },
     "metadata": {
      "needs_background": "light"
     },
     "output_type": "display_data"
    }
   ],
   "source": [
    "plt.scatter(*zip(*similarity_score))\n",
    "plt.title(\"Similarity Scores for All Posts\")\n",
    "plt.xlabel(\"Index\")\n",
    "plt.ylabel(\"Similarity Scores\")\n",
    "plt.show()"
   ]
  },
  {
   "cell_type": "markdown",
   "id": "13e9bc9e",
   "metadata": {},
   "source": [
    "Remove the location of the first post from our score list because we don't want to recommend a location we already posted"
   ]
  },
  {
   "cell_type": "code",
   "execution_count": 47,
   "id": "ffe8f47e",
   "metadata": {
    "pycharm": {
     "name": "#%%\n"
    }
   },
   "outputs": [
    {
     "name": "stdout",
     "output_type": "stream",
     "text": [
      "[(1, 0.0020983120501182452), (2, 0.046713158185843616), (3, 0.06002911620697021), (4, 0.0), (5, 0.029425277123899578)]\n"
     ]
    }
   ],
   "source": [
    "similarity_score = list(filter(lambda x: x[0] != first_post_index, similarity_score))\n",
    "print(similarity_score[:5])"
   ]
  },
  {
   "cell_type": "markdown",
   "id": "a1825039",
   "metadata": {},
   "source": [
    "Sort our similarity_score array from highest to lowest similarity score"
   ]
  },
  {
   "cell_type": "code",
   "execution_count": 48,
   "id": "380f2a32",
   "metadata": {
    "pycharm": {
     "name": "#%%\n"
    }
   },
   "outputs": [
    {
     "name": "stdout",
     "output_type": "stream",
     "text": [
      "[(41780, 0.19390775723782525), (13221, 0.1908908652423294), (7104, 0.1799708913901848), (37753, 0.1753472477569587), (40959, 0.17164063266394486)]\n"
     ]
    }
   ],
   "source": [
    "sorted_locations2 = sorted(similarity_score, key = lambda x:x[1], reverse=True)\n",
    "print(sorted_locations2[:5])"
   ]
  },
  {
   "cell_type": "markdown",
   "id": "7eecd575",
   "metadata": {},
   "source": [
    "Show the top 5 recommended locations"
   ]
  },
  {
   "cell_type": "code",
   "execution_count": 49,
   "id": "bd1dbba5",
   "metadata": {
    "pycharm": {
     "name": "#%%\n"
    }
   },
   "outputs": [
    {
     "name": "stdout",
     "output_type": "stream",
     "text": [
      "Top 5: Locations suggested for you: \n",
      "\n",
      "1 . Mexico City, Mexico\n",
      "2 . Chichen Itza\n",
      "3 . Hong Kong Cultural Centre\n",
      "4 . Playa del Carmen, Quintana Roo\n",
      "5 . Tulum\n"
     ]
    }
   ],
   "source": [
    "print(\"Top 5: Locations suggested for you: \\n\")\n",
    "x2 = []\n",
    "y2 = []\n",
    "i = 1\n",
    "unique_locations2 = set()\n",
    "\n",
    "for location in sorted_locations2:\n",
    "    \n",
    "    index = location[0]\n",
    "    location_name = cb_df[cb_df.index == index][\"location_name\"].values\n",
    "    \n",
    "    if (i <= 5 and not (location_name[0] in unique_locations2)):\n",
    "        \n",
    "        unique_locations2.add(location_name[0])\n",
    "        x2.append(location_name[0])\n",
    "        y2.append(location[1])\n",
    "        print(i,'.',location_name[0])\n",
    "        i+=1"
   ]
  },
  {
   "cell_type": "markdown",
   "id": "7b95bce0",
   "metadata": {},
   "source": [
    "Graph showing the top 5 suggested location and their similarity scores"
   ]
  },
  {
   "cell_type": "code",
   "execution_count": 50,
   "id": "03f9fe33",
   "metadata": {
    "pycharm": {
     "name": "#%%\n"
    }
   },
   "outputs": [
    {
     "data": {
      "image/png": "[encoded data removed]",
      "text/plain": [
       "<Figure size 432x288 with 1 Axes>"
      ]
     },
     "metadata": {
      "needs_background": "light"
     },
     "output_type": "display_data"
    }
   ],
   "source": [
    "fig, ax = plt.subplots()\n",
    "ax.bar(x2, y2, linestyle='-')\n",
    "ax.set_ylabel(\"Similarity Score\")\n",
    "ax.set_xlabel(\"Location Name\")\n",
    "ax.set_title(\"Top 5 Locations Recommended\")\n",
    "plt.setp(ax.get_xticklabels(), rotation=30, horizontalalignment='right')\n",
    "fig.autofmt_xdate()"
   ]
  },
  {
   "cell_type": "markdown",
   "id": "42112ad6",
   "metadata": {},
   "source": [
    "We observe that we obtain much better recommendations when adding caption and accessibility caption as additional features in our model"
   ]
  },
  {
   "cell_type": "markdown",
   "id": "890ba391",
   "metadata": {},
   "source": [
    "### Bonus: Using Custom User Input for Recommendations"
   ]
  },
  {
   "cell_type": "markdown",
   "id": "0188c713",
   "metadata": {},
   "source": [
    "Take User Input for a location. We have chosen 'San Diego' as an example"
   ]
  },
  {
   "cell_type": "code",
   "execution_count": 51,
   "id": "968fa9cb",
   "metadata": {
    "pycharm": {
     "name": "#%%\n"
    }
   },
   "outputs": [
    {
     "name": "stdout",
     "output_type": "stream",
     "text": [
      "Please input a location: San Diego\n"
     ]
    }
   ],
   "source": [
    "user_input = input('Please input a location: ')"
   ]
  },
  {
   "cell_type": "markdown",
   "id": "a48bb95c",
   "metadata": {},
   "source": [
    "Get all the locations"
   ]
  },
  {
   "cell_type": "code",
   "execution_count": 52,
   "id": "ea56ae30",
   "metadata": {
    "pycharm": {
     "name": "#%%\n"
    }
   },
   "outputs": [],
   "source": [
    "locations_list = cb_df[\"location_name\"].tolist()"
   ]
  },
  {
   "cell_type": "markdown",
   "id": "67da2dbf",
   "metadata": {},
   "source": [
    "Find the closest match to our user inputted location"
   ]
  },
  {
   "cell_type": "code",
   "execution_count": 53,
   "id": "87424d01",
   "metadata": {
    "pycharm": {
     "name": "#%%\n"
    }
   },
   "outputs": [],
   "source": [
    "find_closest_match = difflib.get_close_matches(user_input, locations_list)"
   ]
  },
  {
   "cell_type": "code",
   "execution_count": 54,
   "id": "854de29f",
   "metadata": {
    "pycharm": {
     "name": "#%%\n"
    }
   },
   "outputs": [],
   "source": [
    "close_match = find_closest_match[0]"
   ]
  },
  {
   "cell_type": "code",
   "execution_count": 55,
   "id": "f3b01353",
   "metadata": {
    "pycharm": {
     "name": "#%%\n"
    }
   },
   "outputs": [
    {
     "name": "stdout",
     "output_type": "stream",
     "text": [
      "San Diego Zoo\n"
     ]
    }
   ],
   "source": [
    "print(close_match)"
   ]
  },
  {
   "cell_type": "markdown",
   "id": "fb7f4fef",
   "metadata": {},
   "source": [
    "Find the index of the closest match"
   ]
  },
  {
   "cell_type": "code",
   "execution_count": 56,
   "id": "1f4a797a",
   "metadata": {
    "pycharm": {
     "name": "#%%\n"
    }
   },
   "outputs": [],
   "source": [
    "index_close_match = cb_df.index[cb_df[\"location_name\"] == close_match][0]"
   ]
  },
  {
   "cell_type": "code",
   "execution_count": 57,
   "id": "c5b1f9c9",
   "metadata": {
    "pycharm": {
     "name": "#%%\n"
    }
   },
   "outputs": [
    {
     "name": "stdout",
     "output_type": "stream",
     "text": [
      "22197\n"
     ]
    }
   ],
   "source": [
    "print(index_close_match)"
   ]
  },
  {
   "cell_type": "markdown",
   "id": "92c7553e",
   "metadata": {},
   "source": [
    "Get the similarity scores of all the locations to our closest match"
   ]
  },
  {
   "cell_type": "code",
   "execution_count": 58,
   "id": "13d89986",
   "metadata": {
    "pycharm": {
     "name": "#%%\n"
    }
   },
   "outputs": [],
   "source": [
    "similarity_score = list(enumerate(similarity[index_close_match]))"
   ]
  },
  {
   "cell_type": "markdown",
   "id": "8ec8a189",
   "metadata": {},
   "source": [
    "Preview first 5 scores"
   ]
  },
  {
   "cell_type": "code",
   "execution_count": 59,
   "id": "08726839",
   "metadata": {
    "pycharm": {
     "name": "#%%\n"
    }
   },
   "outputs": [
    {
     "name": "stdout",
     "output_type": "stream",
     "text": [
      "[(0, 0.03121050919876367), (1, 0.0), (2, 0.025054280224996683), (3, 0.04574268354183754), (4, 0.011913001342339214)]\n"
     ]
    }
   ],
   "source": [
    "print(similarity_score[:5])"
   ]
  },
  {
   "cell_type": "code",
   "execution_count": 60,
   "id": "a178891b",
   "metadata": {
    "pycharm": {
     "name": "#%%\n"
    }
   },
   "outputs": [
    {
     "data": {
      "text/plain": [
       "48593"
      ]
     },
     "execution_count": 60,
     "metadata": {},
     "output_type": "execute_result"
    }
   ],
   "source": [
    "len(similarity_score)"
   ]
  },
  {
   "cell_type": "markdown",
   "id": "df4c102e",
   "metadata": {},
   "source": [
    "Graph showing the locations and their similarity scores"
   ]
  },
  {
   "cell_type": "code",
   "execution_count": 61,
   "id": "965fe40e",
   "metadata": {
    "pycharm": {
     "name": "#%%\n"
    }
   },
   "outputs": [
    {
     "data": {
      "image/png": "[encoded data removed]",
      "text/plain": [
       "<Figure size 432x288 with 1 Axes>"
      ]
     },
     "metadata": {
      "needs_background": "light"
     },
     "output_type": "display_data"
    }
   ],
   "source": [
    "plt.scatter(*zip(*similarity_score))\n",
    "plt.title(\"Similarity Scores for All Posts\")\n",
    "plt.xlabel(\"Index\")\n",
    "plt.ylabel(\"Similarity Scores\")\n",
    "plt.show()"
   ]
  },
  {
   "cell_type": "markdown",
   "id": "05b9d266",
   "metadata": {},
   "source": [
    "Sort our similarity_score array from highest to lowest similarity score"
   ]
  },
  {
   "cell_type": "code",
   "execution_count": 62,
   "id": "936c1822",
   "metadata": {
    "pycharm": {
     "name": "#%%\n"
    }
   },
   "outputs": [],
   "source": [
    "sorted_locations = sorted(similarity_score, key = lambda x:x[1], reverse=True)"
   ]
  },
  {
   "cell_type": "markdown",
   "id": "839f747f",
   "metadata": {},
   "source": [
    "Preview first 5"
   ]
  },
  {
   "cell_type": "code",
   "execution_count": 63,
   "id": "b4473290",
   "metadata": {
    "pycharm": {
     "name": "#%%\n"
    }
   },
   "outputs": [
    {
     "name": "stdout",
     "output_type": "stream",
     "text": [
      "[(22197, 1.0), (7480, 0.32252091782776493), (24640, 0.32100653884931374), (38070, 0.30502062024682147), (44522, 0.29321165691260026)]\n"
     ]
    }
   ],
   "source": [
    "print(sorted_locations[:5])"
   ]
  },
  {
   "cell_type": "markdown",
   "id": "6859b0f8",
   "metadata": {},
   "source": [
    "Show the top 5 recommended locations"
   ]
  },
  {
   "cell_type": "code",
   "execution_count": 64,
   "id": "cbce18a3",
   "metadata": {
    "pycharm": {
     "name": "#%%\n"
    }
   },
   "outputs": [
    {
     "name": "stdout",
     "output_type": "stream",
     "text": [
      "Top 5: Locations suggested for you: \n",
      "\n",
      "1 . San Diego Zoo\n",
      "2 . Sunset Cliffs, San Diego\n",
      "3 . Blue Mountains National Park\n",
      "4 . Normal Heights, San Diego\n",
      "5 . Pacific Beach, San Diego\n"
     ]
    }
   ],
   "source": [
    "print(\"Top 5: Locations suggested for you: \\n\")\n",
    "x3 = []\n",
    "y3 = []\n",
    "i = 1\n",
    "for location in sorted_locations:\n",
    "    index = location[0]\n",
    "    location_name = cb_df[cb_df.index == index][\"location_name\"].values\n",
    "    if (i <= 5):\n",
    "        x3.append(location_name[0])\n",
    "        y3.append(location[1])\n",
    "        print(i,'.',location_name[0])\n",
    "        i+=1"
   ]
  },
  {
   "cell_type": "markdown",
   "id": "210a73f9",
   "metadata": {},
   "source": [
    "Graph showing the top 5 suggested location and their similarity scores"
   ]
  },
  {
   "cell_type": "code",
   "execution_count": 65,
   "id": "4464fb5d",
   "metadata": {
    "pycharm": {
     "name": "#%%\n"
    }
   },
   "outputs": [
    {
     "data": {
      "image/png": "[encoded data removed]",
      "text/plain": [
       "<Figure size 432x288 with 1 Axes>"
      ]
     },
     "metadata": {
      "needs_background": "light"
     },
     "output_type": "display_data"
    }
   ],
   "source": [
    "fig, ax = plt.subplots()\n",
    "ax.bar(x3, y3, linestyle='-')\n",
    "ax.set_ylabel(\"Similarity Score\")\n",
    "ax.set_xlabel(\"Location Name\")\n",
    "ax.set_title(\"Top 5 Locations Recommended\")\n",
    "plt.setp(ax.get_xticklabels(), rotation=30, horizontalalignment='right')\n",
    "fig.autofmt_xdate()"
   ]
  },
  {
   "cell_type": "markdown",
   "id": "37ea7724",
   "metadata": {},
   "source": [
    "## 5. Latent Factor Models"
   ]
  },
  {
   "cell_type": "markdown",
   "id": "749f7224",
   "metadata": {
    "pycharm": {
     "name": "#%% md\n"
    }
   },
   "source": [
    "In this section, we are going to experiment training our data with PySpark's ALS algorithm using different factors to build the ratings and parameters to optimize our model.\n",
    "\n",
    "Below are helper functions to build and train the model."
   ]
  },
  {
   "cell_type": "code",
   "execution_count": 66,
   "id": "ded79e4e",
   "metadata": {
    "pycharm": {
     "name": "#%%\n"
    }
   },
   "outputs": [],
   "source": [
    "def evaluate(model, data, labelCol):\n",
    "    predictions = model.transform(data)\n",
    "    evaluator = RegressionEvaluator(metricName=\"rmse\", labelCol=labelCol,\n",
    "                                predictionCol=\"prediction\")\n",
    "    return evaluator.evaluate(predictions)\n",
    "\n",
    "def flatten_(v):\n",
    "    try:\n",
    "        return float(v[0])\n",
    "    except ValueError:\n",
    "        return None\n",
    "\n",
    "flatten = udf(flatten_, DoubleType())\n",
    "\n",
    "tst_rmse = []"
   ]
  },
  {
   "cell_type": "markdown",
   "id": "eb3669d9",
   "metadata": {
    "pycharm": {
     "name": "#%% md\n"
    }
   },
   "source": [
    "### Model 1"
   ]
  },
  {
   "cell_type": "markdown",
   "id": "2e7e14e4",
   "metadata": {
    "pycharm": {
     "name": "#%% md\n"
    }
   },
   "source": [
    "In Model 1, we will count the number of occurrences for each pair of <code>owner_id</code> and <code>location_id</code>. This count will be considered as our ratings."
   ]
  },
  {
   "cell_type": "code",
   "execution_count": 67,
   "id": "3dddc057",
   "metadata": {
    "pycharm": {
     "name": "#%%\n"
    }
   },
   "outputs": [],
   "source": [
    "LF_df = df.select(\"owner_id\", \"location_id\")\n",
    "LF_df = LF_df.withColumn(\"owner_id\", col(\"owner_id\").cast(IntegerType())).\\\n",
    "    withColumn(\"location_id\", col(\"location_id\").cast(IntegerType())).\\\n",
    "    withColumnRenamed(\"owner_id\", \"user_id\")"
   ]
  },
  {
   "cell_type": "code",
   "execution_count": 68,
   "id": "79958d71",
   "metadata": {
    "pycharm": {
     "name": "#%%\n"
    }
   },
   "outputs": [],
   "source": [
    "LF1 = LF_df.groupby(\"user_id\", \"location_id\").count()"
   ]
  },
  {
   "cell_type": "markdown",
   "id": "509b1c4f",
   "metadata": {
    "pycharm": {
     "name": "#%% md\n"
    }
   },
   "source": [
    "We will use a 80/20 split to train and test our data with the following ALS parameters:\n",
    "* <code>maxIter</code> = 5\n",
    "* <code>regParam</code> = 0.01\n",
    "* <code>rank</code> = 25"
   ]
  },
  {
   "cell_type": "code",
   "execution_count": 69,
   "id": "86fab3cf",
   "metadata": {
    "pycharm": {
     "name": "#%%\n"
    }
   },
   "outputs": [
    {
     "name": "stdout",
     "output_type": "stream",
     "text": [
      "Root mean squared error:  1.7561659640983387\n"
     ]
    }
   ],
   "source": [
    "(training, test) = LF1.randomSplit([0.8, 0.2], seed=SEED)\n",
    "\n",
    "als = ALS(maxIter=5, regParam=0.01, rank=25, coldStartStrategy=\"drop\",\n",
    "          userCol=\"user_id\", itemCol=\"location_id\", ratingCol=\"count\").setSeed(SEED)\n",
    "model = als.fit(training)\n",
    "\n",
    "test_rmse = evaluate(model, test, \"count\")\n",
    "\n",
    "tst_rmse.append(test_rmse)\n",
    "\n",
    "print(\"Root mean squared error: \", test_rmse)"
   ]
  },
  {
   "cell_type": "markdown",
   "id": "c1af2afd",
   "metadata": {
    "pycharm": {
     "name": "#%% md\n"
    }
   },
   "source": [
    "### Model 2"
   ]
  },
  {
   "cell_type": "markdown",
   "id": "b3974c55",
   "metadata": {
    "pycharm": {
     "name": "#%% md\n"
    }
   },
   "source": [
    "In Model 2, we will also include the count of the number of occurrences for each pair of <code>tagged_user_id</code> and <code>location_id</code> as in our ratings."
   ]
  },
  {
   "cell_type": "code",
   "execution_count": 70,
   "id": "9b41314a",
   "metadata": {
    "pycharm": {
     "name": "#%%\n"
    }
   },
   "outputs": [],
   "source": [
    "tagged_df = df.select(explode(df.tagged_users_id).alias(\"user_id\"),\"location_id\")\n",
    "tagged_df = tagged_df.withColumn(\"user_id\", col(\"user_id\").cast(IntegerType())).\\\n",
    "    withColumn(\"location_id\", col(\"location_id\").cast(IntegerType()))"
   ]
  },
  {
   "cell_type": "code",
   "execution_count": 71,
   "id": "fb814396",
   "metadata": {
    "pycharm": {
     "name": "#%%\n"
    }
   },
   "outputs": [],
   "source": [
    "LF2 = LF_df.union(tagged_df)"
   ]
  },
  {
   "cell_type": "code",
   "execution_count": 72,
   "id": "d78ad336",
   "metadata": {
    "pycharm": {
     "name": "#%%\n"
    }
   },
   "outputs": [],
   "source": [
    "LF2 = LF2.groupby(\"user_id\", \"location_id\").count()"
   ]
  },
  {
   "cell_type": "markdown",
   "id": "8712d67e",
   "metadata": {
    "pycharm": {
     "name": "#%% md\n"
    }
   },
   "source": [
    "We are going the use the same split and parameters as Model 1."
   ]
  },
  {
   "cell_type": "code",
   "execution_count": 73,
   "id": "93816bd7",
   "metadata": {
    "pycharm": {
     "name": "#%%\n"
    }
   },
   "outputs": [
    {
     "name": "stdout",
     "output_type": "stream",
     "text": [
      "Root mean squared error:  1.3162391951559245\n"
     ]
    }
   ],
   "source": [
    "(training, test) = LF2.randomSplit([0.8, 0.2], seed=SEED)\n",
    "\n",
    "als = ALS(maxIter=5, regParam=0.01, rank=25, coldStartStrategy=\"drop\",\n",
    "          userCol=\"user_id\", itemCol=\"location_id\", ratingCol=\"count\").setSeed(SEED)\n",
    "model = als.fit(training)\n",
    "\n",
    "test_rmse = evaluate(model, test, \"count\")\n",
    "\n",
    "tst_rmse.append(test_rmse)\n",
    "\n",
    "print(\"Root mean squared error: \", test_rmse)"
   ]
  },
  {
   "cell_type": "markdown",
   "id": "134069b3",
   "metadata": {
    "pycharm": {
     "name": "#%% md\n"
    }
   },
   "source": [
    "As shown above, we were able to minimize the RMSE of recommendations obtained through model 2."
   ]
  },
  {
   "cell_type": "markdown",
   "id": "93106a42",
   "metadata": {
    "pycharm": {
     "name": "#%% md\n"
    }
   },
   "source": [
    "### Model 3"
   ]
  },
  {
   "cell_type": "markdown",
   "id": "8cb1ae14",
   "metadata": {},
   "source": [
    "In Model 3, we will try to sum the number of likes for each <code>location_id</code> and add it as a bias to our ratings.\n",
    "\n",
    "We will then rescale our ratings to a range between 0 and 5 using MinMaxScaler."
   ]
  },
  {
   "cell_type": "code",
   "execution_count": 74,
   "id": "58e35b15",
   "metadata": {
    "pycharm": {
     "name": "#%%\n"
    }
   },
   "outputs": [],
   "source": [
    "LF_df = df.select(\"owner_id\", \"location_id\", \"location_name\", \"likes_count\")\n",
    "LF_df = LF_df.withColumn(\"owner_id\", col(\"owner_id\").cast(IntegerType())).\\\n",
    "    withColumn(\"location_id\", col(\"location_id\").cast(IntegerType())).\\\n",
    "    withColumnRenamed(\"owner_id\", \"user_id\")"
   ]
  },
  {
   "cell_type": "code",
   "execution_count": 75,
   "id": "60a31213",
   "metadata": {
    "pycharm": {
     "name": "#%%\n"
    }
   },
   "outputs": [],
   "source": [
    "tagged_df = df.select(explode(df.tagged_users_id).alias(\"user_id\"),\"location_id\", \"location_name\", \"likes_count\")\n",
    "tagged_df = tagged_df.withColumn(\"user_id\", col(\"user_id\").cast(IntegerType())).\\\n",
    "    withColumn(\"location_id\", col(\"location_id\").cast(IntegerType()))"
   ]
  },
  {
   "cell_type": "code",
   "execution_count": 76,
   "id": "32d3f564",
   "metadata": {
    "pycharm": {
     "name": "#%%\n"
    }
   },
   "outputs": [],
   "source": [
    "LF3_df = LF_df.union(tagged_df)"
   ]
  },
  {
   "cell_type": "code",
   "execution_count": 77,
   "id": "8e7dca12",
   "metadata": {
    "pycharm": {
     "name": "#%%\n"
    }
   },
   "outputs": [],
   "source": [
    "LF3 = LF3_df.groupby(\"user_id\", \"location_id\").agg(count('*').alias(\"count\"),\\\n",
    "                                                sum(LF3_df.likes_count).\\\n",
    "                                                alias(\"sum_likes\"))"
   ]
  },
  {
   "cell_type": "code",
   "execution_count": 78,
   "id": "d6e3261f",
   "metadata": {
    "pycharm": {
     "name": "#%%\n"
    }
   },
   "outputs": [],
   "source": [
    "LF3 = LF3.withColumn(\"bias_count\", col(\"count\") + col(\"sum_likes\"))"
   ]
  },
  {
   "cell_type": "markdown",
   "id": "147712a6",
   "metadata": {
    "pycharm": {
     "name": "#%% md\n"
    }
   },
   "source": [
    "To be able to rescale our ratings we first need to convert our dataframe's columns into vectors."
   ]
  },
  {
   "cell_type": "code",
   "execution_count": 79,
   "id": "32a08e6c",
   "metadata": {
    "pycharm": {
     "name": "#%%\n"
    }
   },
   "outputs": [],
   "source": [
    "assembler = VectorAssembler(inputCols=[\"bias_count\"], outputCol=\"bias_count_vec\")\n",
    "\n",
    "LF3 = assembler.transform(LF3)"
   ]
  },
  {
   "cell_type": "markdown",
   "id": "bbd8bf4e",
   "metadata": {},
   "source": [
    "We can now rescale our ratings to [0,5]."
   ]
  },
  {
   "cell_type": "code",
   "execution_count": 80,
   "id": "722a699d",
   "metadata": {
    "pycharm": {
     "name": "#%%\n"
    }
   },
   "outputs": [],
   "source": [
    "(training, test) = LF3.randomSplit([0.8, 0.2], seed=SEED)\n",
    "\n",
    "scaler = MinMaxScaler(min=0.0, max=5.0, inputCol=\"bias_count_vec\", outputCol=\"norm_count\")\n",
    "\n",
    "model = scaler.fit(training)"
   ]
  },
  {
   "cell_type": "code",
   "execution_count": 81,
   "id": "24fecfd3",
   "metadata": {
    "pycharm": {
     "name": "#%%\n"
    }
   },
   "outputs": [],
   "source": [
    "training = model.transform(training)\n",
    "test = model.transform(test)"
   ]
  },
  {
   "cell_type": "markdown",
   "id": "5d4e4ee7",
   "metadata": {},
   "source": [
    "After rescaling, we need to convert the vectors back to their original form."
   ]
  },
  {
   "cell_type": "code",
   "execution_count": 82,
   "id": "bd297352",
   "metadata": {
    "pycharm": {
     "name": "#%%\n"
    }
   },
   "outputs": [],
   "source": [
    "training = training.withColumn(\"norm_count\", flatten(\"norm_count\"))\n",
    "test = test.withColumn(\"norm_count\", flatten(\"norm_count\"))"
   ]
  },
  {
   "cell_type": "markdown",
   "id": "3c59e455",
   "metadata": {},
   "source": [
    "We will still use a 80/20 split along with the same parameters as the previous models to train model 3."
   ]
  },
  {
   "cell_type": "code",
   "execution_count": 83,
   "id": "a7556892",
   "metadata": {
    "pycharm": {
     "name": "#%%\n"
    }
   },
   "outputs": [
    {
     "name": "stdout",
     "output_type": "stream",
     "text": [
      "Root mean squared error:  0.10247026344760263\n"
     ]
    }
   ],
   "source": [
    "als = ALS(maxIter=5, regParam=0.01, rank=25, coldStartStrategy=\"drop\",\n",
    "          userCol=\"user_id\", itemCol=\"location_id\", ratingCol=\"norm_count\").setSeed(SEED)\n",
    "model = als.fit(training)\n",
    "\n",
    "test_rmse = evaluate(model, test, \"norm_count\")\n",
    "\n",
    "tst_rmse.append(test_rmse)\n",
    "\n",
    "print(\"Root mean squared error: \", test_rmse)"
   ]
  },
  {
   "cell_type": "markdown",
   "id": "2f4b54f3",
   "metadata": {
    "pycharm": {
     "name": "#%% md\n"
    }
   },
   "source": [
    "As we can see, rescaling our ratings has greatly improved our model's performance."
   ]
  },
  {
   "cell_type": "markdown",
   "id": "dc808d0b",
   "metadata": {},
   "source": [
    "### Model 4"
   ]
  },
  {
   "cell_type": "markdown",
   "id": "0f66638e",
   "metadata": {
    "pycharm": {
     "name": "#%% md\n"
    }
   },
   "source": [
    "Now that we know that rescaling our ratings helps our model to converge faster, we will keep the same approach to process our ratings.\n",
    "\n",
    "In Model 4, we will focus more on tuning our model's parameters using TrainValidationSplit."
   ]
  },
  {
   "cell_type": "markdown",
   "id": "858e4ee8",
   "metadata": {},
   "source": [
    "Rescaling rating to range [0,5]"
   ]
  },
  {
   "cell_type": "code",
   "execution_count": 84,
   "id": "8a215d8d",
   "metadata": {
    "pycharm": {
     "name": "#%%\n"
    }
   },
   "outputs": [],
   "source": [
    "(training, test) = LF3.randomSplit([0.8, 0.2], seed=SEED)\n",
    "\n",
    "scaler = MinMaxScaler(min=0.0, max=5.0, inputCol=\"bias_count_vec\", outputCol=\"norm_count\")\n",
    "\n",
    "scaler_model = scaler.fit(training)"
   ]
  },
  {
   "cell_type": "code",
   "execution_count": 85,
   "id": "2bd56852",
   "metadata": {
    "pycharm": {
     "name": "#%%\n"
    }
   },
   "outputs": [],
   "source": [
    "training = scaler_model.transform(training)\n",
    "test = scaler_model.transform(test)"
   ]
  },
  {
   "cell_type": "markdown",
   "id": "d4443df6",
   "metadata": {},
   "source": [
    "Flatten Columns"
   ]
  },
  {
   "cell_type": "code",
   "execution_count": 86,
   "id": "fdaa2d88",
   "metadata": {
    "pycharm": {
     "name": "#%%\n"
    }
   },
   "outputs": [],
   "source": [
    "training = training.withColumn(\"norm_count\", flatten(\"norm_count\"))\n",
    "test = test.withColumn(\"norm_count\", flatten(\"norm_count\"))"
   ]
  },
  {
   "cell_type": "markdown",
   "id": "09ea9788",
   "metadata": {},
   "source": [
    "With the following parameters, TrainValidationSplit will be able to generate 8 submodels to determine the best model."
   ]
  },
  {
   "cell_type": "code",
   "execution_count": 87,
   "id": "e358b7e5",
   "metadata": {
    "pycharm": {
     "name": "#%%\n"
    }
   },
   "outputs": [],
   "source": [
    "regParams = [0.01, 0.1]\n",
    "iterations = [5, 10]\n",
    "ranks = [50, 70]"
   ]
  },
  {
   "cell_type": "markdown",
   "id": "18878f14",
   "metadata": {
    "pycharm": {
     "name": "#%% md\n"
    }
   },
   "source": [
    "We will split our data into 60% Training, 20% Validation and 20% Testing.\n",
    "\n",
    "We will also set <code>collectSubModels</code> to <code>True</code> to collect all submodels created."
   ]
  },
  {
   "cell_type": "code",
   "execution_count": 88,
   "id": "36c6359a",
   "metadata": {
    "pycharm": {
     "name": "#%%\n"
    }
   },
   "outputs": [
    {
     "name": "stdout",
     "output_type": "stream",
     "text": [
      "Root mean squared error:  0.08953709474024797\n"
     ]
    }
   ],
   "source": [
    "als = ALS(coldStartStrategy=\"drop\",userCol=\"user_id\", itemCol=\"location_id\", ratingCol=\"norm_count\").setSeed(SEED)\n",
    "evaluator = RegressionEvaluator(metricName=\"rmse\", labelCol=\"norm_count\", predictionCol=\"prediction\")\n",
    "\n",
    "paramGrid = ParamGridBuilder()\\\n",
    "    .addGrid(als.regParam, regParams) \\\n",
    "    .addGrid(als.maxIter, iterations)\\\n",
    "    .addGrid(als.rank, ranks)\\\n",
    "    .build()\n",
    "\n",
    "\n",
    "tvs = TrainValidationSplit(estimator=als,\n",
    "                           estimatorParamMaps=paramGrid,\n",
    "                           evaluator=evaluator,\n",
    "                           trainRatio=0.75,\n",
    "                           collectSubModels=True,\n",
    "                           seed = SEED)\n",
    "\n",
    "model = tvs.fit(training)\n",
    "\n",
    "best_model = model.bestModel\n",
    "\n",
    "test_rmse = evaluate(best_model, test, \"norm_count\")\n",
    "\n",
    "tst_rmse.append(test_rmse)\n",
    "\n",
    "print(\"Root mean squared error: \", test_rmse)"
   ]
  },
  {
   "cell_type": "markdown",
   "id": "d3d66121",
   "metadata": {},
   "source": [
    "Let's now plot the validation metrics of TrainValidationSplit"
   ]
  },
  {
   "cell_type": "code",
   "execution_count": 89,
   "id": "4b76e9b3",
   "metadata": {
    "pycharm": {
     "name": "#%%\n"
    }
   },
   "outputs": [
    {
     "data": {
      "image/png": "[encoded data removed]",
      "text/plain": [
       "<Figure size 432x288 with 1 Axes>"
      ]
     },
     "metadata": {
      "needs_background": "light"
     },
     "output_type": "display_data"
    }
   ],
   "source": [
    "plt.plot(model.validationMetrics)\n",
    "plt.title(\"Validation performance\")\n",
    "plt.xlabel(\"Models\")\n",
    "plt.ylabel(\"Root mean squared error\")\n",
    "plt.show()"
   ]
  },
  {
   "cell_type": "markdown",
   "id": "9f9922c1",
   "metadata": {
    "pycharm": {
     "name": "#%% md\n"
    }
   },
   "source": [
    "From the above graph, we can conclude that submodel at index 3 is the best model with the following parameters:"
   ]
  },
  {
   "cell_type": "code",
   "execution_count": 90,
   "id": "def2a859",
   "metadata": {
    "pycharm": {
     "name": "#%%\n"
    }
   },
   "outputs": [
    {
     "name": "stdout",
     "output_type": "stream",
     "text": [
      "regParam:  0.01\n",
      "maxIter:  10\n",
      "Rank:  70\n"
     ]
    }
   ],
   "source": [
    "assert best_model._java_obj.parent().getRegParam() == model.subModels[3]._java_obj.parent().getRegParam()\n",
    "assert best_model._java_obj.parent().getMaxIter() == model.subModels[3]._java_obj.parent().getMaxIter()\n",
    "assert best_model._java_obj.parent().getRank() == model.subModels[3]._java_obj.parent().getRank()\n",
    "\n",
    "print(\"regParam: \", best_model._java_obj.parent().getRegParam())\n",
    "print(\"maxIter: \", best_model._java_obj.parent().getMaxIter())\n",
    "print(\"Rank: \", best_model._java_obj.parent().getRank())"
   ]
  },
  {
   "cell_type": "markdown",
   "id": "5156c2d5",
   "metadata": {
    "pycharm": {
     "name": "#%% md\n"
    }
   },
   "source": [
    "Now that we were able to choose a set of optimal hyperparameters for ALS. Can we still do better?"
   ]
  },
  {
   "cell_type": "markdown",
   "id": "13feb417",
   "metadata": {},
   "source": [
    "### Model 5"
   ]
  },
  {
   "cell_type": "markdown",
   "id": "a2218560",
   "metadata": {},
   "source": [
    "In Model 5, we will try to instead rescale our ratings to a range between 0 and 1 and use the set of optimal parameters found in Model 4."
   ]
  },
  {
   "cell_type": "code",
   "execution_count": 91,
   "id": "aafaed65",
   "metadata": {
    "pycharm": {
     "name": "#%%\n"
    }
   },
   "outputs": [],
   "source": [
    "(training, test) = LF3.randomSplit([0.8, 0.2], seed=SEED)\n",
    "\n",
    "scaler = MinMaxScaler(min=0.0, max=1.0, inputCol=\"bias_count_vec\", outputCol=\"norm_count\")\n",
    "\n",
    "scaler_model = scaler.fit(training)"
   ]
  },
  {
   "cell_type": "code",
   "execution_count": 92,
   "id": "9c8741e6",
   "metadata": {
    "pycharm": {
     "name": "#%%\n"
    }
   },
   "outputs": [],
   "source": [
    "training = scaler_model.transform(training)\n",
    "test = scaler_model.transform(test)"
   ]
  },
  {
   "cell_type": "markdown",
   "id": "f0754762",
   "metadata": {},
   "source": [
    "Flatten Columns"
   ]
  },
  {
   "cell_type": "code",
   "execution_count": 93,
   "id": "0b77f400",
   "metadata": {
    "pycharm": {
     "name": "#%%\n"
    }
   },
   "outputs": [],
   "source": [
    "training = training.withColumn(\"norm_count\", flatten(\"norm_count\"))\n",
    "test = test.withColumn(\"norm_count\", flatten(\"norm_count\"))"
   ]
  },
  {
   "cell_type": "code",
   "execution_count": 94,
   "id": "0e7fb7d5",
   "metadata": {
    "pycharm": {
     "name": "#%%\n"
    }
   },
   "outputs": [
    {
     "name": "stdout",
     "output_type": "stream",
     "text": [
      "Root mean squared error:  0.0187919115715911\n"
     ]
    }
   ],
   "source": [
    "als = ALS(maxIter=10, regParam=0.01, rank=70, coldStartStrategy=\"drop\",\n",
    "          userCol=\"user_id\", itemCol=\"location_id\", ratingCol=\"norm_count\").setSeed(SEED)\n",
    "model = als.fit(training)\n",
    "\n",
    "test_rmse = evaluate(model, test, \"norm_count\")\n",
    "\n",
    "tst_rmse.append(test_rmse)\n",
    "\n",
    "print(\"Root mean squared error: \", test_rmse)"
   ]
  },
  {
   "cell_type": "markdown",
   "id": "1b704d11",
   "metadata": {},
   "source": [
    "Hooray! We found our best model!"
   ]
  },
  {
   "cell_type": "markdown",
   "id": "e8bdcd56",
   "metadata": {},
   "source": [
    "### Model performances on test set"
   ]
  },
  {
   "cell_type": "markdown",
   "id": "0a98d2e4",
   "metadata": {},
   "source": [
    "Let's now plot what we have achieved so far after experimenting different factors and parameters."
   ]
  },
  {
   "cell_type": "code",
   "execution_count": 95,
   "id": "cde5b65b",
   "metadata": {
    "pycharm": {
     "name": "#%%\n"
    }
   },
   "outputs": [
    {
     "data": {
      "image/png": "[encoded data removed]",
      "text/plain": [
       "<Figure size 432x288 with 1 Axes>"
      ]
     },
     "metadata": {
      "needs_background": "light"
     },
     "output_type": "display_data"
    }
   ],
   "source": [
    "x = ['M1', 'M2', 'M3', 'M4', 'M5']\n",
    "plt.plot(x, tst_rmse)\n",
    "plt.title(\"Testing performance\")\n",
    "plt.xlabel(\"Models\")\n",
    "plt.ylabel(\"Root mean squared error\")\n",
    "plt.show()"
   ]
  },
  {
   "cell_type": "markdown",
   "id": "c8a0b2b6",
   "metadata": {},
   "source": [
    "Indeed after trying different factors and parameters, we can conclude that our model performs the best when we:\n",
    "\n",
    "   * rescale our ratings to a range between 0 and 1\n",
    "   * use a set of optimal hyperparameters (regParam = 0.01, maxIter = 10, rank = 70)"
   ]
  },
  {
   "cell_type": "markdown",
   "id": "a1785f20",
   "metadata": {},
   "source": [
    "### Top 5 recommendation for a specific user using our best model"
   ]
  },
  {
   "cell_type": "markdown",
   "id": "567de16d",
   "metadata": {},
   "source": [
    " Before looking at the recommendation list, let’s have a look at the user's preferences:"
   ]
  },
  {
   "cell_type": "code",
   "execution_count": 96,
   "id": "1a49b4b4",
   "metadata": {
    "pycharm": {
     "name": "#%%\n"
    }
   },
   "outputs": [
    {
     "name": "stdout",
     "output_type": "stream",
     "text": [
      "+--------------------+\n",
      "|       location_name|\n",
      "+--------------------+\n",
      "|              Mexico|\n",
      "|           Ski Dubai|\n",
      "|SHAPE Medical Centre|\n",
      "| Munnar Hill Station|\n",
      "|    Al Meydan Bridge|\n",
      "+--------------------+\n",
      "\n"
     ]
    }
   ],
   "source": [
    "LF3_df.select(\"location_name\").filter(col(\"user_id\") == 398526345).limit(5).show()"
   ]
  },
  {
   "cell_type": "code",
   "execution_count": 97,
   "id": "d93fda5f",
   "metadata": {
    "pycharm": {
     "name": "#%%\n"
    }
   },
   "outputs": [],
   "source": [
    "user = LF3.select(als.getUserCol()).filter(col(\"user_id\") == 398526345).limit(1)\n",
    "userRec = model.recommendForUserSubset(user, 5)"
   ]
  },
  {
   "cell_type": "markdown",
   "id": "ff589bc6",
   "metadata": {},
   "source": [
    "And here are the Top 5 recommendations from our model:"
   ]
  },
  {
   "cell_type": "code",
   "execution_count": 98,
   "id": "660528c9",
   "metadata": {
    "pycharm": {
     "name": "#%%\n"
    }
   },
   "outputs": [
    {
     "name": "stdout",
     "output_type": "stream",
     "text": [
      "Top 5 locations recommended to user 398526345\n",
      "1 Oxford Circus\n",
      "2 Maui, Hawaii\n",
      "3 Maui Hawaii\n",
      "4 Algarve Portugal\n",
      "5 Yukon\n"
     ]
    }
   ],
   "source": [
    "print(\"Top 5 locations recommended to user 398526345\")\n",
    "for i, loc in enumerate(userRec.collect()[0][\"recommendations\"]):\n",
    "    name = LF3_df.select(\"location_name\").filter(col(\"location_id\") == loc[\"location_id\"]).limit(1).\\\n",
    "                                                                                        collect()[0][\"location_name\"]\n",
    "    print(i+1, name)"
   ]
  }
 ],
 "metadata": {
  "kernelspec": {
   "display_name": "Python 3 (ipykernel)",
   "language": "python",
   "name": "python3"
  },
  "language_info": {
   "codemirror_mode": {
    "name": "ipython",
    "version": 3
   },
   "file_extension": ".py",
   "mimetype": "text/x-python",
   "name": "python",
   "nbconvert_exporter": "python",
   "pygments_lexer": "ipython3",
   "version": "3.8.13"
  }
 },
 "nbformat": 4,
 "nbformat_minor": 5
}